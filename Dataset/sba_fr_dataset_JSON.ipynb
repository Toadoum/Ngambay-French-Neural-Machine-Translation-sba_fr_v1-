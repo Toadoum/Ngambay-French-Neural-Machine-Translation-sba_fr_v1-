{
 "cells": [
  {
   "cell_type": "code",
   "execution_count": 64,
   "metadata": {
    "id": "NEMdohzJJYXy"
   },
   "outputs": [],
   "source": [
    "import pandas as pd\n",
    "from sklearn.model_selection import train_test_split"
   ]
  },
  {
   "cell_type": "code",
   "execution_count": 65,
   "metadata": {
    "colab": {
     "base_uri": "https://localhost:8080/",
     "height": 206
    },
    "id": "DMnuAQQkJv79",
    "outputId": "4252f1eb-862f-4c9e-b476-9b1a35915a63"
   },
   "outputs": [
    {
     "data": {
      "text/html": [
       "<div>\n",
       "<style scoped>\n",
       "    .dataframe tbody tr th:only-of-type {\n",
       "        vertical-align: middle;\n",
       "    }\n",
       "\n",
       "    .dataframe tbody tr th {\n",
       "        vertical-align: top;\n",
       "    }\n",
       "\n",
       "    .dataframe thead th {\n",
       "        text-align: right;\n",
       "    }\n",
       "</style>\n",
       "<table border=\"1\" class=\"dataframe\">\n",
       "  <thead>\n",
       "    <tr style=\"text-align: right;\">\n",
       "      <th></th>\n",
       "      <th>Timestamp</th>\n",
       "      <th>Email address</th>\n",
       "      <th>sba</th>\n",
       "      <th>fr</th>\n",
       "    </tr>\n",
       "  </thead>\n",
       "  <tbody>\n",
       "    <tr>\n",
       "      <th>0</th>\n",
       "      <td>NaN</td>\n",
       "      <td>NaN</td>\n",
       "      <td>āɓēlə̀kó̰y lé tō nā̰y gɨ́ né-sɔ̀ tō yā̰ èĺ</td>\n",
       "      <td>Le mois de \"septembre\" est un mois où il n'y a...</td>\n",
       "    </tr>\n",
       "    <tr>\n",
       "      <th>1</th>\n",
       "      <td>12/07/2022 18:21:01</td>\n",
       "      <td>NaN</td>\n",
       "      <td>á lò ō né gɨ́-ǹ</td>\n",
       "      <td>Regarde cette chose là</td>\n",
       "    </tr>\n",
       "    <tr>\n",
       "      <th>2</th>\n",
       "      <td>12/07/2022 18:21:37</td>\n",
       "      <td>NaN</td>\n",
       "      <td>ɗí ɓá à ɗā-né wà?</td>\n",
       "      <td>Qu'a-t-il en faire?</td>\n",
       "    </tr>\n",
       "    <tr>\n",
       "      <th>3</th>\n",
       "      <td>12/07/2022 18:22:31</td>\n",
       "      <td>NaN</td>\n",
       "      <td>à ɗèē bèlè</td>\n",
       "      <td>Il viendra demain</td>\n",
       "    </tr>\n",
       "    <tr>\n",
       "      <th>4</th>\n",
       "      <td>12/07/2022 18:23:07</td>\n",
       "      <td>NaN</td>\n",
       "      <td>àw̄ ɗá à?</td>\n",
       "      <td>Où est-il parti?</td>\n",
       "    </tr>\n",
       "  </tbody>\n",
       "</table>\n",
       "</div>"
      ],
      "text/plain": [
       "             Timestamp  Email address  \\\n",
       "0                  NaN            NaN   \n",
       "1  12/07/2022 18:21:01            NaN   \n",
       "2  12/07/2022 18:21:37            NaN   \n",
       "3  12/07/2022 18:22:31            NaN   \n",
       "4  12/07/2022 18:23:07            NaN   \n",
       "\n",
       "                                          sba  \\\n",
       "0  āɓēlə̀kó̰y lé tō nā̰y gɨ́ né-sɔ̀ tō yā̰ èĺ   \n",
       "1                             á lò ō né gɨ́-ǹ   \n",
       "2                           ɗí ɓá à ɗā-né wà?   \n",
       "3                                  à ɗèē bèlè   \n",
       "4                                   àw̄ ɗá à?   \n",
       "\n",
       "                                                  fr  \n",
       "0  Le mois de \"septembre\" est un mois où il n'y a...  \n",
       "1                             Regarde cette chose là  \n",
       "2                                Qu'a-t-il en faire?  \n",
       "3                                  Il viendra demain  \n",
       "4                                   Où est-il parti?  "
      ]
     },
     "execution_count": 65,
     "metadata": {},
     "output_type": "execute_result"
    }
   ],
   "source": [
    "df1=pd.read_csv('/home/jupyter/Ngambay-French-Neural-Machine-Translation-sba_fr_v1-/Dataset/sba_fr_CSV/bitext_sba_fr.csv')\n",
    "df1.head()"
   ]
  },
  {
   "cell_type": "code",
   "execution_count": 66,
   "metadata": {
    "id": "tx4S97ZQLDlK"
   },
   "outputs": [],
   "source": [
    "df1.drop(['Timestamp', 'Email address'], axis=1, inplace=True)\n",
    "df1 = df1.rename(columns={'sba': 'sw'})"
   ]
  },
  {
   "cell_type": "code",
   "execution_count": 67,
   "metadata": {
    "colab": {
     "base_uri": "https://localhost:8080/",
     "height": 206
    },
    "id": "1TjgnznYLYJG",
    "outputId": "f8a10b7c-929d-4b77-f9e0-d2e7306d03b4"
   },
   "outputs": [
    {
     "data": {
      "text/html": [
       "<div>\n",
       "<style scoped>\n",
       "    .dataframe tbody tr th:only-of-type {\n",
       "        vertical-align: middle;\n",
       "    }\n",
       "\n",
       "    .dataframe tbody tr th {\n",
       "        vertical-align: top;\n",
       "    }\n",
       "\n",
       "    .dataframe thead th {\n",
       "        text-align: right;\n",
       "    }\n",
       "</style>\n",
       "<table border=\"1\" class=\"dataframe\">\n",
       "  <thead>\n",
       "    <tr style=\"text-align: right;\">\n",
       "      <th></th>\n",
       "      <th>sw</th>\n",
       "      <th>fr</th>\n",
       "    </tr>\n",
       "  </thead>\n",
       "  <tbody>\n",
       "    <tr>\n",
       "      <th>0</th>\n",
       "      <td>āɓēlə̀kó̰y lé tō nā̰y gɨ́ né-sɔ̀ tō yā̰ èĺ</td>\n",
       "      <td>Le mois de \"septembre\" est un mois où il n'y a...</td>\n",
       "    </tr>\n",
       "    <tr>\n",
       "      <th>1</th>\n",
       "      <td>á lò ō né gɨ́-ǹ</td>\n",
       "      <td>Regarde cette chose là</td>\n",
       "    </tr>\n",
       "    <tr>\n",
       "      <th>2</th>\n",
       "      <td>ɗí ɓá à ɗā-né wà?</td>\n",
       "      <td>Qu'a-t-il en faire?</td>\n",
       "    </tr>\n",
       "    <tr>\n",
       "      <th>3</th>\n",
       "      <td>à ɗèē bèlè</td>\n",
       "      <td>Il viendra demain</td>\n",
       "    </tr>\n",
       "    <tr>\n",
       "      <th>4</th>\n",
       "      <td>àw̄ ɗá à?</td>\n",
       "      <td>Où est-il parti?</td>\n",
       "    </tr>\n",
       "  </tbody>\n",
       "</table>\n",
       "</div>"
      ],
      "text/plain": [
       "                                           sw  \\\n",
       "0  āɓēlə̀kó̰y lé tō nā̰y gɨ́ né-sɔ̀ tō yā̰ èĺ   \n",
       "1                             á lò ō né gɨ́-ǹ   \n",
       "2                           ɗí ɓá à ɗā-né wà?   \n",
       "3                                  à ɗèē bèlè   \n",
       "4                                   àw̄ ɗá à?   \n",
       "\n",
       "                                                  fr  \n",
       "0  Le mois de \"septembre\" est un mois où il n'y a...  \n",
       "1                             Regarde cette chose là  \n",
       "2                                Qu'a-t-il en faire?  \n",
       "3                                  Il viendra demain  \n",
       "4                                   Où est-il parti?  "
      ]
     },
     "execution_count": 67,
     "metadata": {},
     "output_type": "execute_result"
    }
   ],
   "source": [
    "df1.head()"
   ]
  },
  {
   "cell_type": "code",
   "execution_count": 68,
   "metadata": {
    "colab": {
     "base_uri": "https://localhost:8080/"
    },
    "id": "9KrP6tCuLaoU",
    "outputId": "148b8d58-5536-46c0-a9da-8ee5e7e0d051"
   },
   "outputs": [
    {
     "data": {
      "text/plain": [
       "1176"
      ]
     },
     "execution_count": 68,
     "metadata": {},
     "output_type": "execute_result"
    }
   ],
   "source": [
    "len(df1)"
   ]
  },
  {
   "cell_type": "code",
   "execution_count": 69,
   "metadata": {
    "colab": {
     "base_uri": "https://localhost:8080/",
     "height": 206
    },
    "id": "7TXaknW4KB-8",
    "outputId": "01230571-488a-445b-8de2-4ec18887994f"
   },
   "outputs": [
    {
     "data": {
      "text/html": [
       "<div>\n",
       "<style scoped>\n",
       "    .dataframe tbody tr th:only-of-type {\n",
       "        vertical-align: middle;\n",
       "    }\n",
       "\n",
       "    .dataframe tbody tr th {\n",
       "        vertical-align: top;\n",
       "    }\n",
       "\n",
       "    .dataframe thead th {\n",
       "        text-align: right;\n",
       "    }\n",
       "</style>\n",
       "<table border=\"1\" class=\"dataframe\">\n",
       "  <thead>\n",
       "    <tr style=\"text-align: right;\">\n",
       "      <th></th>\n",
       "      <th>ChapterID</th>\n",
       "      <th>VerseID</th>\n",
       "      <th>Content_SBA</th>\n",
       "      <th>Content_Fr</th>\n",
       "    </tr>\n",
       "  </thead>\n",
       "  <tbody>\n",
       "    <tr>\n",
       "      <th>0</th>\n",
       "      <td>GEN.1</td>\n",
       "      <td>1</td>\n",
       "      <td>1Kédé gə́ dɔtar lé, Ala unda dara gə naŋg nee tɔ.</td>\n",
       "      <td>1 Au commencement, Dieu créa les cieux et la t...</td>\n",
       "    </tr>\n",
       "    <tr>\n",
       "      <th>1</th>\n",
       "      <td>GEN.1</td>\n",
       "      <td>2</td>\n",
       "      <td>2Loo gə́ naŋg nee lé to kari ba ləm, né kára k...</td>\n",
       "      <td>2 La terre était informe et vide; il y avait d...</td>\n",
       "    </tr>\n",
       "    <tr>\n",
       "      <th>2</th>\n",
       "      <td>GEN.1</td>\n",
       "      <td>3</td>\n",
       "      <td>3Ala pana: Maji kar loo àr! Ndá loo àr ya tɔ .</td>\n",
       "      <td>3 Dieu dit: Que la lumière soit! Et la lumière...</td>\n",
       "    </tr>\n",
       "    <tr>\n",
       "      <th>3</th>\n",
       "      <td>GEN.1</td>\n",
       "      <td>4</td>\n",
       "      <td>4Ala oo to gə́ loo gə́ àr lé to maji ya! Ɓa Al...</td>\n",
       "      <td>4 Dieu vit que la lumière était bonne; et Dieu...</td>\n",
       "    </tr>\n",
       "    <tr>\n",
       "      <th>4</th>\n",
       "      <td>GEN.1</td>\n",
       "      <td>5</td>\n",
       "      <td>5Loo gə́ àr lé Ala ɓaree lookàr ləm, loo gə́ t...</td>\n",
       "      <td>5 Dieu appela la lumière jour, et il appela le...</td>\n",
       "    </tr>\n",
       "  </tbody>\n",
       "</table>\n",
       "</div>"
      ],
      "text/plain": [
       "  ChapterID  VerseID                                        Content_SBA  \\\n",
       "0     GEN.1        1  1Kédé gə́ dɔtar lé, Ala unda dara gə naŋg nee tɔ.   \n",
       "1     GEN.1        2  2Loo gə́ naŋg nee lé to kari ba ləm, né kára k...   \n",
       "2     GEN.1        3    3Ala pana: Maji kar loo àr! Ndá loo àr ya tɔ .    \n",
       "3     GEN.1        4  4Ala oo to gə́ loo gə́ àr lé to maji ya! Ɓa Al...   \n",
       "4     GEN.1        5  5Loo gə́ àr lé Ala ɓaree lookàr ləm, loo gə́ t...   \n",
       "\n",
       "                                          Content_Fr  \n",
       "0  1 Au commencement, Dieu créa les cieux et la t...  \n",
       "1  2 La terre était informe et vide; il y avait d...  \n",
       "2  3 Dieu dit: Que la lumière soit! Et la lumière...  \n",
       "3  4 Dieu vit que la lumière était bonne; et Dieu...  \n",
       "4  5 Dieu appela la lumière jour, et il appela le...  "
      ]
     },
     "execution_count": 69,
     "metadata": {},
     "output_type": "execute_result"
    }
   ],
   "source": [
    "df2=pd.read_csv('/home/jupyter/Ngambay-French-Neural-Machine-Translation-sba_fr_v1-/Dataset/sba_fr_CSV/bible data.csv')\n",
    "df2.head()"
   ]
  },
  {
   "cell_type": "code",
   "execution_count": 70,
   "metadata": {
    "id": "olRqqydZKQKx"
   },
   "outputs": [],
   "source": [
    "df2.drop(['ChapterID', 'VerseID'], axis=1, inplace=True)\n",
    "df2 = df2.rename(columns={'Content_SBA': 'sw','Content_Fr': 'fr'})"
   ]
  },
  {
   "cell_type": "code",
   "execution_count": 71,
   "metadata": {
    "id": "smAC_kUXKgql"
   },
   "outputs": [],
   "source": [
    "df2.dropna(inplace=True)"
   ]
  },
  {
   "cell_type": "code",
   "execution_count": 72,
   "metadata": {
    "colab": {
     "base_uri": "https://localhost:8080/",
     "height": 206
    },
    "id": "-7GAlisQKz1C",
    "outputId": "99487e09-0659-4c5d-a7a7-0d92fa712275"
   },
   "outputs": [
    {
     "data": {
      "text/html": [
       "<div>\n",
       "<style scoped>\n",
       "    .dataframe tbody tr th:only-of-type {\n",
       "        vertical-align: middle;\n",
       "    }\n",
       "\n",
       "    .dataframe tbody tr th {\n",
       "        vertical-align: top;\n",
       "    }\n",
       "\n",
       "    .dataframe thead th {\n",
       "        text-align: right;\n",
       "    }\n",
       "</style>\n",
       "<table border=\"1\" class=\"dataframe\">\n",
       "  <thead>\n",
       "    <tr style=\"text-align: right;\">\n",
       "      <th></th>\n",
       "      <th>sw</th>\n",
       "      <th>fr</th>\n",
       "    </tr>\n",
       "  </thead>\n",
       "  <tbody>\n",
       "    <tr>\n",
       "      <th>0</th>\n",
       "      <td>1Kédé gə́ dɔtar lé, Ala unda dara gə naŋg nee tɔ.</td>\n",
       "      <td>1 Au commencement, Dieu créa les cieux et la t...</td>\n",
       "    </tr>\n",
       "    <tr>\n",
       "      <th>1</th>\n",
       "      <td>2Loo gə́ naŋg nee lé to kari ba ləm, né kára k...</td>\n",
       "      <td>2 La terre était informe et vide; il y avait d...</td>\n",
       "    </tr>\n",
       "    <tr>\n",
       "      <th>2</th>\n",
       "      <td>3Ala pana: Maji kar loo àr! Ndá loo àr ya tɔ .</td>\n",
       "      <td>3 Dieu dit: Que la lumière soit! Et la lumière...</td>\n",
       "    </tr>\n",
       "    <tr>\n",
       "      <th>3</th>\n",
       "      <td>4Ala oo to gə́ loo gə́ àr lé to maji ya! Ɓa Al...</td>\n",
       "      <td>4 Dieu vit que la lumière était bonne; et Dieu...</td>\n",
       "    </tr>\n",
       "    <tr>\n",
       "      <th>4</th>\n",
       "      <td>5Loo gə́ àr lé Ala ɓaree lookàr ləm, loo gə́ t...</td>\n",
       "      <td>5 Dieu appela la lumière jour, et il appela le...</td>\n",
       "    </tr>\n",
       "  </tbody>\n",
       "</table>\n",
       "</div>"
      ],
      "text/plain": [
       "                                                  sw  \\\n",
       "0  1Kédé gə́ dɔtar lé, Ala unda dara gə naŋg nee tɔ.   \n",
       "1  2Loo gə́ naŋg nee lé to kari ba ləm, né kára k...   \n",
       "2    3Ala pana: Maji kar loo àr! Ndá loo àr ya tɔ .    \n",
       "3  4Ala oo to gə́ loo gə́ àr lé to maji ya! Ɓa Al...   \n",
       "4  5Loo gə́ àr lé Ala ɓaree lookàr ləm, loo gə́ t...   \n",
       "\n",
       "                                                  fr  \n",
       "0  1 Au commencement, Dieu créa les cieux et la t...  \n",
       "1  2 La terre était informe et vide; il y avait d...  \n",
       "2  3 Dieu dit: Que la lumière soit! Et la lumière...  \n",
       "3  4 Dieu vit que la lumière était bonne; et Dieu...  \n",
       "4  5 Dieu appela la lumière jour, et il appela le...  "
      ]
     },
     "execution_count": 72,
     "metadata": {},
     "output_type": "execute_result"
    }
   ],
   "source": [
    "df2.head()"
   ]
  },
  {
   "cell_type": "code",
   "execution_count": 73,
   "metadata": {
    "colab": {
     "base_uri": "https://localhost:8080/"
    },
    "id": "wJahenRtLdu9",
    "outputId": "5e60eadf-cdeb-4671-81be-f521a1ab54fd"
   },
   "outputs": [
    {
     "data": {
      "text/plain": [
       "31897"
      ]
     },
     "execution_count": 73,
     "metadata": {},
     "output_type": "execute_result"
    }
   ],
   "source": [
    "len(df2)"
   ]
  },
  {
   "cell_type": "code",
   "execution_count": 74,
   "metadata": {
    "id": "_OGT4gz3Lf6V"
   },
   "outputs": [],
   "source": [
    "#Merge the two dataframe\n",
    "frames = [df1, df2]\n",
    "\n",
    "df = pd.concat(frames)"
   ]
  },
  {
   "cell_type": "code",
   "execution_count": 75,
   "metadata": {
    "colab": {
     "base_uri": "https://localhost:8080/",
     "height": 206
    },
    "id": "yC7-1YTAL8cn",
    "outputId": "209017e8-f41d-4fde-b77b-dbacf343ca3a"
   },
   "outputs": [
    {
     "data": {
      "text/html": [
       "<div>\n",
       "<style scoped>\n",
       "    .dataframe tbody tr th:only-of-type {\n",
       "        vertical-align: middle;\n",
       "    }\n",
       "\n",
       "    .dataframe tbody tr th {\n",
       "        vertical-align: top;\n",
       "    }\n",
       "\n",
       "    .dataframe thead th {\n",
       "        text-align: right;\n",
       "    }\n",
       "</style>\n",
       "<table border=\"1\" class=\"dataframe\">\n",
       "  <thead>\n",
       "    <tr style=\"text-align: right;\">\n",
       "      <th></th>\n",
       "      <th>sw</th>\n",
       "      <th>fr</th>\n",
       "    </tr>\n",
       "  </thead>\n",
       "  <tbody>\n",
       "    <tr>\n",
       "      <th>0</th>\n",
       "      <td>āɓēlə̀kó̰y lé tō nā̰y gɨ́ né-sɔ̀ tō yā̰ èĺ</td>\n",
       "      <td>Le mois de \"septembre\" est un mois où il n'y a...</td>\n",
       "    </tr>\n",
       "    <tr>\n",
       "      <th>1</th>\n",
       "      <td>á lò ō né gɨ́-ǹ</td>\n",
       "      <td>Regarde cette chose là</td>\n",
       "    </tr>\n",
       "    <tr>\n",
       "      <th>2</th>\n",
       "      <td>ɗí ɓá à ɗā-né wà?</td>\n",
       "      <td>Qu'a-t-il en faire?</td>\n",
       "    </tr>\n",
       "    <tr>\n",
       "      <th>3</th>\n",
       "      <td>à ɗèē bèlè</td>\n",
       "      <td>Il viendra demain</td>\n",
       "    </tr>\n",
       "    <tr>\n",
       "      <th>4</th>\n",
       "      <td>àw̄ ɗá à?</td>\n",
       "      <td>Où est-il parti?</td>\n",
       "    </tr>\n",
       "  </tbody>\n",
       "</table>\n",
       "</div>"
      ],
      "text/plain": [
       "                                           sw  \\\n",
       "0  āɓēlə̀kó̰y lé tō nā̰y gɨ́ né-sɔ̀ tō yā̰ èĺ   \n",
       "1                             á lò ō né gɨ́-ǹ   \n",
       "2                           ɗí ɓá à ɗā-né wà?   \n",
       "3                                  à ɗèē bèlè   \n",
       "4                                   àw̄ ɗá à?   \n",
       "\n",
       "                                                  fr  \n",
       "0  Le mois de \"septembre\" est un mois où il n'y a...  \n",
       "1                             Regarde cette chose là  \n",
       "2                                Qu'a-t-il en faire?  \n",
       "3                                  Il viendra demain  \n",
       "4                                   Où est-il parti?  "
      ]
     },
     "execution_count": 75,
     "metadata": {},
     "output_type": "execute_result"
    }
   ],
   "source": [
    "df.head()"
   ]
  },
  {
   "cell_type": "code",
   "execution_count": 76,
   "metadata": {
    "colab": {
     "base_uri": "https://localhost:8080/"
    },
    "id": "oTSuLs7PMAJe",
    "outputId": "69cc9c6b-42ad-46c3-ddc3-81c63e400882"
   },
   "outputs": [
    {
     "data": {
      "text/plain": [
       "33073"
      ]
     },
     "execution_count": 76,
     "metadata": {},
     "output_type": "execute_result"
    }
   ],
   "source": [
    "len(df)"
   ]
  },
  {
   "cell_type": "code",
   "execution_count": 77,
   "metadata": {
    "colab": {
     "base_uri": "https://localhost:8080/",
     "height": 206
    },
    "id": "kvz_e4HvMxgL",
    "outputId": "527a118c-6d74-432e-b017-c3b45803f2fc"
   },
   "outputs": [
    {
     "data": {
      "text/html": [
       "<div>\n",
       "<style scoped>\n",
       "    .dataframe tbody tr th:only-of-type {\n",
       "        vertical-align: middle;\n",
       "    }\n",
       "\n",
       "    .dataframe tbody tr th {\n",
       "        vertical-align: top;\n",
       "    }\n",
       "\n",
       "    .dataframe thead th {\n",
       "        text-align: right;\n",
       "    }\n",
       "</style>\n",
       "<table border=\"1\" class=\"dataframe\">\n",
       "  <thead>\n",
       "    <tr style=\"text-align: right;\">\n",
       "      <th></th>\n",
       "      <th>sw</th>\n",
       "      <th>fr</th>\n",
       "    </tr>\n",
       "  </thead>\n",
       "  <tbody>\n",
       "    <tr>\n",
       "      <th>0</th>\n",
       "      <td>āɓēlə̀kó̰y lé tō nā̰y gɨ́ né-sɔ̀ tō yā̰ èĺ</td>\n",
       "      <td>Le mois de \"septembre\" est un mois où il n'y a...</td>\n",
       "    </tr>\n",
       "    <tr>\n",
       "      <th>1</th>\n",
       "      <td>á lò ō né gɨ́-ǹ</td>\n",
       "      <td>Regarde cette chose là</td>\n",
       "    </tr>\n",
       "    <tr>\n",
       "      <th>2</th>\n",
       "      <td>ɗí ɓá à ɗā-né wà?</td>\n",
       "      <td>Qu'a-t-il en faire?</td>\n",
       "    </tr>\n",
       "    <tr>\n",
       "      <th>3</th>\n",
       "      <td>à ɗèē bèlè</td>\n",
       "      <td>Il viendra demain</td>\n",
       "    </tr>\n",
       "    <tr>\n",
       "      <th>4</th>\n",
       "      <td>àw̄ ɗá à?</td>\n",
       "      <td>Où est-il parti?</td>\n",
       "    </tr>\n",
       "  </tbody>\n",
       "</table>\n",
       "</div>"
      ],
      "text/plain": [
       "                                           sw  \\\n",
       "0  āɓēlə̀kó̰y lé tō nā̰y gɨ́ né-sɔ̀ tō yā̰ èĺ   \n",
       "1                             á lò ō né gɨ́-ǹ   \n",
       "2                           ɗí ɓá à ɗā-né wà?   \n",
       "3                                  à ɗèē bèlè   \n",
       "4                                   àw̄ ɗá à?   \n",
       "\n",
       "                                                  fr  \n",
       "0  Le mois de \"septembre\" est un mois où il n'y a...  \n",
       "1                             Regarde cette chose là  \n",
       "2                                Qu'a-t-il en faire?  \n",
       "3                                  Il viendra demain  \n",
       "4                                   Où est-il parti?  "
      ]
     },
     "execution_count": 77,
     "metadata": {},
     "output_type": "execute_result"
    }
   ],
   "source": [
    "df.head()"
   ]
  },
  {
   "cell_type": "code",
   "execution_count": 78,
   "metadata": {},
   "outputs": [
    {
     "data": {
      "image/png": "[encoded data removed]",
      "text/plain": [
       "<Figure size 1600x700 with 1 Axes>"
      ]
     },
     "metadata": {},
     "output_type": "display_data"
    }
   ],
   "source": [
    "import matplotlib.pyplot as plt\n",
    "\n",
    "# Replace with the path to your parallel corpus file\n",
    "#filename = \"path/to/parallel_corpus.txt\"\n",
    "\n",
    "# Read in the parallel corpus and split into sentences\n",
    "#with open(filename, \"r\", encoding=\"utf-8\") as f:\n",
    "    #sentences = f.read().splitlines()\n",
    "\n",
    "# Compute the length of each sentence and store in a list\n",
    "sentence_lengths = [len(sentence) for sentence in df['fr']]\n",
    "#print(len(sentence_lengths))\n",
    "\n",
    "# Create a histogram of sentence lengths using matplotlib\n",
    "bins = range(0, max(sentence_lengths), 10)\n",
    "plt.figure(figsize=(16, 7))\n",
    "plt.hist(sentence_lengths, bins=bins, edgecolor='black', align='left',color='green')\n",
    "plt.xticks(bins)\n",
    "plt.xlabel(\"Sentence Length\")\n",
    "plt.ylabel(\"Frequency\")\n",
    "plt.title(\"Histogram of Sentence Lengths for French (fr) sentences\")\n",
    "plt.xticks(fontsize=10, rotation=45, ha=\"right\")\n",
    "plt.savefig('fr.png')\n",
    "plt.show()"
   ]
  },
  {
   "cell_type": "code",
   "execution_count": 79,
   "metadata": {},
   "outputs": [
    {
     "data": {
      "image/png": "[encoded data removed]",
      "text/plain": [
       "<Figure size 1600x700 with 1 Axes>"
      ]
     },
     "metadata": {},
     "output_type": "display_data"
    }
   ],
   "source": [
    "import matplotlib.pyplot as plt\n",
    "\n",
    "# Replace with the path to your parallel corpus file\n",
    "#filename = \"path/to/parallel_corpus.txt\"\n",
    "\n",
    "# Read in the parallel corpus and split into sentences\n",
    "#with open(filename, \"r\", encoding=\"utf-8\") as f:\n",
    "    #sentences = f.read().splitlines()\n",
    "\n",
    "# Compute the length of each sentence and store in a list\n",
    "sentence_lengths = [len(sentence) for sentence in df['sw']]\n",
    "\n",
    "# Create a histogram of sentence lengths using matplotlib\n",
    "bins = range(0, max(sentence_lengths), 10)\n",
    "plt.figure(figsize=(16, 7))\n",
    "plt.hist(sentence_lengths, bins=bins, edgecolor='black', align='left',color='b')\n",
    "plt.xticks(bins)\n",
    "plt.xlabel(\"Sentence Length\")\n",
    "plt.ylabel(\"Frequency\")\n",
    "plt.title(\"Histogram of Sentence Lengths for Ngambay (sba) sentences\")\n",
    "plt.xticks(fontsize=10, rotation=45, ha=\"right\")\n",
    "plt.savefig('sba.png')\n",
    "plt.show()"
   ]
  },
  {
   "cell_type": "markdown",
   "metadata": {},
   "source": [
    "## Synthetic dataset"
   ]
  },
  {
   "cell_type": "code",
   "execution_count": 80,
   "metadata": {},
   "outputs": [
    {
     "data": {
      "text/html": [
       "<div>\n",
       "<style scoped>\n",
       "    .dataframe tbody tr th:only-of-type {\n",
       "        vertical-align: middle;\n",
       "    }\n",
       "\n",
       "    .dataframe tbody tr th {\n",
       "        vertical-align: top;\n",
       "    }\n",
       "\n",
       "    .dataframe thead th {\n",
       "        text-align: right;\n",
       "    }\n",
       "</style>\n",
       "<table border=\"1\" class=\"dataframe\">\n",
       "  <thead>\n",
       "    <tr style=\"text-align: right;\">\n",
       "      <th></th>\n",
       "      <th>sentences</th>\n",
       "    </tr>\n",
       "  </thead>\n",
       "  <tbody>\n",
       "    <tr>\n",
       "      <th>0</th>\n",
       "      <td>1\\t« 10 000 décès par semaine, c’est 10 000 de...</td>\n",
       "    </tr>\n",
       "    <tr>\n",
       "      <th>1</th>\n",
       "      <td>2\\t«10 milliards d’années» est une exposition ...</td>\n",
       "    </tr>\n",
       "    <tr>\n",
       "      <th>2</th>\n",
       "      <td>3\\t“11 millions de mercis”: la presse belge sa...</td>\n",
       "    </tr>\n",
       "    <tr>\n",
       "      <th>3</th>\n",
       "      <td>4\\t» 1489 promesses d’emploi, 335 personnes en...</td>\n",
       "    </tr>\n",
       "    <tr>\n",
       "      <th>4</th>\n",
       "      <td>5\\t« 14 civils de l’ethnie dogon auraient été ...</td>\n",
       "    </tr>\n",
       "  </tbody>\n",
       "</table>\n",
       "</div>"
      ],
      "text/plain": [
       "                                           sentences\n",
       "0  1\\t« 10 000 décès par semaine, c’est 10 000 de...\n",
       "1  2\\t«10 milliards d’années» est une exposition ...\n",
       "2  3\\t“11 millions de mercis”: la presse belge sa...\n",
       "3  4\\t» 1489 promesses d’emploi, 335 personnes en...\n",
       "4  5\\t« 14 civils de l’ethnie dogon auraient été ..."
      ]
     },
     "execution_count": 80,
     "metadata": {},
     "output_type": "execute_result"
    }
   ],
   "source": [
    "df3=pd.read_csv('/home/jupyter/Ngambay-French-Neural-Machine-Translation-sba_fr_v1-/Dataset/sba_fr_CSV/split_data.csv')\n",
    "df3.head()"
   ]
  },
  {
   "cell_type": "code",
   "execution_count": 81,
   "metadata": {},
   "outputs": [
    {
     "data": {
      "text/html": [
       "<div>\n",
       "<style scoped>\n",
       "    .dataframe tbody tr th:only-of-type {\n",
       "        vertical-align: middle;\n",
       "    }\n",
       "\n",
       "    .dataframe tbody tr th {\n",
       "        vertical-align: top;\n",
       "    }\n",
       "\n",
       "    .dataframe thead th {\n",
       "        text-align: right;\n",
       "    }\n",
       "</style>\n",
       "<table border=\"1\" class=\"dataframe\">\n",
       "  <thead>\n",
       "    <tr style=\"text-align: right;\">\n",
       "      <th></th>\n",
       "      <th>sba</th>\n",
       "    </tr>\n",
       "  </thead>\n",
       "  <tbody>\n",
       "    <tr>\n",
       "      <th>0</th>\n",
       "      <td>Tɔ. De gə́ d’wəi gə ndɔje kára-kára lai lé d’a...</td>\n",
       "    </tr>\n",
       "    <tr>\n",
       "      <th>1</th>\n",
       "      <td>lé wɔji dɔ ləbje gə́ tɔl-dɔg-loo-dɔg (10.000) ...</td>\n",
       "    </tr>\n",
       "    <tr>\n",
       "      <th>2</th>\n",
       "      <td>lé de ndaŋg mee maktub gə́ to gə kəmee as tɔl-...</td>\n",
       "    </tr>\n",
       "    <tr>\n",
       "      <th>3</th>\n",
       "      <td>Lé wɔji dɔ ndukun gə́ d’un d’ar njékulaje ləm,</td>\n",
       "    </tr>\n",
       "    <tr>\n",
       "      <th>4</th>\n",
       "      <td>lé to asəna gə da-kul gə́ unda ria lə Eglisə g...</td>\n",
       "    </tr>\n",
       "  </tbody>\n",
       "</table>\n",
       "</div>"
      ],
      "text/plain": [
       "                                                 sba\n",
       "0  Tɔ. De gə́ d’wəi gə ndɔje kára-kára lai lé d’a...\n",
       "1  lé wɔji dɔ ləbje gə́ tɔl-dɔg-loo-dɔg (10.000) ...\n",
       "2  lé de ndaŋg mee maktub gə́ to gə kəmee as tɔl-...\n",
       "3     Lé wɔji dɔ ndukun gə́ d’un d’ar njékulaje ləm,\n",
       "4  lé to asəna gə da-kul gə́ unda ria lə Eglisə g..."
      ]
     },
     "execution_count": 81,
     "metadata": {},
     "output_type": "execute_result"
    }
   ],
   "source": [
    "df4=pd.read_csv('/home/jupyter/Ngambay-French-Neural-Machine-Translation-sba_fr_v1-/Dataset/sba_fr_CSV/sba_synthetic.csv')\n",
    "df4.head()"
   ]
  },
  {
   "cell_type": "code",
   "execution_count": 82,
   "metadata": {},
   "outputs": [],
   "source": [
    "df4=df4[0:5000]"
   ]
  },
  {
   "cell_type": "code",
   "execution_count": 83,
   "metadata": {},
   "outputs": [
    {
     "data": {
      "text/plain": [
       "5000"
      ]
     },
     "execution_count": 83,
     "metadata": {},
     "output_type": "execute_result"
    }
   ],
   "source": [
    "len(df4)"
   ]
  },
  {
   "cell_type": "code",
   "execution_count": 84,
   "metadata": {},
   "outputs": [],
   "source": [
    "df3=df3[0:5000]"
   ]
  },
  {
   "cell_type": "code",
   "execution_count": 85,
   "metadata": {},
   "outputs": [
    {
     "data": {
      "text/plain": [
       "5000"
      ]
     },
     "execution_count": 85,
     "metadata": {},
     "output_type": "execute_result"
    }
   ],
   "source": [
    "len(df3)"
   ]
  },
  {
   "cell_type": "markdown",
   "metadata": {},
   "source": [
    "### Concatenate the two dataframes to have our bitext synthetic data"
   ]
  },
  {
   "cell_type": "code",
   "execution_count": 86,
   "metadata": {},
   "outputs": [],
   "source": [
    "result = pd.concat([df4,df3], axis=1)"
   ]
  },
  {
   "cell_type": "code",
   "execution_count": 87,
   "metadata": {},
   "outputs": [
    {
     "data": {
      "text/html": [
       "<div>\n",
       "<style scoped>\n",
       "    .dataframe tbody tr th:only-of-type {\n",
       "        vertical-align: middle;\n",
       "    }\n",
       "\n",
       "    .dataframe tbody tr th {\n",
       "        vertical-align: top;\n",
       "    }\n",
       "\n",
       "    .dataframe thead th {\n",
       "        text-align: right;\n",
       "    }\n",
       "</style>\n",
       "<table border=\"1\" class=\"dataframe\">\n",
       "  <thead>\n",
       "    <tr style=\"text-align: right;\">\n",
       "      <th></th>\n",
       "      <th>sba</th>\n",
       "      <th>sentences</th>\n",
       "    </tr>\n",
       "  </thead>\n",
       "  <tbody>\n",
       "    <tr>\n",
       "      <th>0</th>\n",
       "      <td>Tɔ. De gə́ d’wəi gə ndɔje kára-kára lai lé d’a...</td>\n",
       "      <td>1\\t« 10 000 décès par semaine, c’est 10 000 de...</td>\n",
       "    </tr>\n",
       "    <tr>\n",
       "      <th>1</th>\n",
       "      <td>lé wɔji dɔ ləbje gə́ tɔl-dɔg-loo-dɔg (10.000) ...</td>\n",
       "      <td>2\\t«10 milliards d’années» est une exposition ...</td>\n",
       "    </tr>\n",
       "    <tr>\n",
       "      <th>2</th>\n",
       "      <td>lé de ndaŋg mee maktub gə́ to gə kəmee as tɔl-...</td>\n",
       "      <td>3\\t“11 millions de mercis”: la presse belge sa...</td>\n",
       "    </tr>\n",
       "    <tr>\n",
       "      <th>3</th>\n",
       "      <td>Lé wɔji dɔ ndukun gə́ d’un d’ar njékulaje ləm,</td>\n",
       "      <td>4\\t» 1489 promesses d’emploi, 335 personnes en...</td>\n",
       "    </tr>\n",
       "    <tr>\n",
       "      <th>4</th>\n",
       "      <td>lé to asəna gə da-kul gə́ unda ria lə Eglisə g...</td>\n",
       "      <td>5\\t« 14 civils de l’ethnie dogon auraient été ...</td>\n",
       "    </tr>\n",
       "  </tbody>\n",
       "</table>\n",
       "</div>"
      ],
      "text/plain": [
       "                                                 sba  \\\n",
       "0  Tɔ. De gə́ d’wəi gə ndɔje kára-kára lai lé d’a...   \n",
       "1  lé wɔji dɔ ləbje gə́ tɔl-dɔg-loo-dɔg (10.000) ...   \n",
       "2  lé de ndaŋg mee maktub gə́ to gə kəmee as tɔl-...   \n",
       "3     Lé wɔji dɔ ndukun gə́ d’un d’ar njékulaje ləm,   \n",
       "4  lé to asəna gə da-kul gə́ unda ria lə Eglisə g...   \n",
       "\n",
       "                                           sentences  \n",
       "0  1\\t« 10 000 décès par semaine, c’est 10 000 de...  \n",
       "1  2\\t«10 milliards d’années» est une exposition ...  \n",
       "2  3\\t“11 millions de mercis”: la presse belge sa...  \n",
       "3  4\\t» 1489 promesses d’emploi, 335 personnes en...  \n",
       "4  5\\t« 14 civils de l’ethnie dogon auraient été ...  "
      ]
     },
     "execution_count": 87,
     "metadata": {},
     "output_type": "execute_result"
    }
   ],
   "source": [
    "result.head()"
   ]
  },
  {
   "cell_type": "code",
   "execution_count": 88,
   "metadata": {},
   "outputs": [],
   "source": [
    "result = result.rename(columns={'sba': 'sw','sentences': 'fr'})"
   ]
  },
  {
   "cell_type": "code",
   "execution_count": 89,
   "metadata": {},
   "outputs": [
    {
     "data": {
      "text/html": [
       "<div>\n",
       "<style scoped>\n",
       "    .dataframe tbody tr th:only-of-type {\n",
       "        vertical-align: middle;\n",
       "    }\n",
       "\n",
       "    .dataframe tbody tr th {\n",
       "        vertical-align: top;\n",
       "    }\n",
       "\n",
       "    .dataframe thead th {\n",
       "        text-align: right;\n",
       "    }\n",
       "</style>\n",
       "<table border=\"1\" class=\"dataframe\">\n",
       "  <thead>\n",
       "    <tr style=\"text-align: right;\">\n",
       "      <th></th>\n",
       "      <th>sw</th>\n",
       "      <th>fr</th>\n",
       "    </tr>\n",
       "  </thead>\n",
       "  <tbody>\n",
       "    <tr>\n",
       "      <th>0</th>\n",
       "      <td>Tɔ. De gə́ d’wəi gə ndɔje kára-kára lai lé d’a...</td>\n",
       "      <td>1\\t« 10 000 décès par semaine, c’est 10 000 de...</td>\n",
       "    </tr>\n",
       "    <tr>\n",
       "      <th>1</th>\n",
       "      <td>lé wɔji dɔ ləbje gə́ tɔl-dɔg-loo-dɔg (10.000) ...</td>\n",
       "      <td>2\\t«10 milliards d’années» est une exposition ...</td>\n",
       "    </tr>\n",
       "    <tr>\n",
       "      <th>2</th>\n",
       "      <td>lé de ndaŋg mee maktub gə́ to gə kəmee as tɔl-...</td>\n",
       "      <td>3\\t“11 millions de mercis”: la presse belge sa...</td>\n",
       "    </tr>\n",
       "    <tr>\n",
       "      <th>3</th>\n",
       "      <td>Lé wɔji dɔ ndukun gə́ d’un d’ar njékulaje ləm,</td>\n",
       "      <td>4\\t» 1489 promesses d’emploi, 335 personnes en...</td>\n",
       "    </tr>\n",
       "    <tr>\n",
       "      <th>4</th>\n",
       "      <td>lé to asəna gə da-kul gə́ unda ria lə Eglisə g...</td>\n",
       "      <td>5\\t« 14 civils de l’ethnie dogon auraient été ...</td>\n",
       "    </tr>\n",
       "  </tbody>\n",
       "</table>\n",
       "</div>"
      ],
      "text/plain": [
       "                                                  sw  \\\n",
       "0  Tɔ. De gə́ d’wəi gə ndɔje kára-kára lai lé d’a...   \n",
       "1  lé wɔji dɔ ləbje gə́ tɔl-dɔg-loo-dɔg (10.000) ...   \n",
       "2  lé de ndaŋg mee maktub gə́ to gə kəmee as tɔl-...   \n",
       "3     Lé wɔji dɔ ndukun gə́ d’un d’ar njékulaje ləm,   \n",
       "4  lé to asəna gə da-kul gə́ unda ria lə Eglisə g...   \n",
       "\n",
       "                                                  fr  \n",
       "0  1\\t« 10 000 décès par semaine, c’est 10 000 de...  \n",
       "1  2\\t«10 milliards d’années» est une exposition ...  \n",
       "2  3\\t“11 millions de mercis”: la presse belge sa...  \n",
       "3  4\\t» 1489 promesses d’emploi, 335 personnes en...  \n",
       "4  5\\t« 14 civils de l’ethnie dogon auraient été ...  "
      ]
     },
     "execution_count": 89,
     "metadata": {},
     "output_type": "execute_result"
    }
   ],
   "source": [
    "result.head()"
   ]
  },
  {
   "cell_type": "markdown",
   "metadata": {},
   "source": [
    "## Combine Original and Synthetic Data"
   ]
  },
  {
   "cell_type": "code",
   "execution_count": 90,
   "metadata": {},
   "outputs": [],
   "source": [
    "#Merge the two dataframe\n",
    "frames = [df, result]\n",
    "\n",
    "df_final = pd.concat(frames)"
   ]
  },
  {
   "cell_type": "code",
   "execution_count": 91,
   "metadata": {},
   "outputs": [
    {
     "data": {
      "text/html": [
       "<div>\n",
       "<style scoped>\n",
       "    .dataframe tbody tr th:only-of-type {\n",
       "        vertical-align: middle;\n",
       "    }\n",
       "\n",
       "    .dataframe tbody tr th {\n",
       "        vertical-align: top;\n",
       "    }\n",
       "\n",
       "    .dataframe thead th {\n",
       "        text-align: right;\n",
       "    }\n",
       "</style>\n",
       "<table border=\"1\" class=\"dataframe\">\n",
       "  <thead>\n",
       "    <tr style=\"text-align: right;\">\n",
       "      <th></th>\n",
       "      <th>sw</th>\n",
       "      <th>fr</th>\n",
       "    </tr>\n",
       "  </thead>\n",
       "  <tbody>\n",
       "    <tr>\n",
       "      <th>0</th>\n",
       "      <td>āɓēlə̀kó̰y lé tō nā̰y gɨ́ né-sɔ̀ tō yā̰ èĺ</td>\n",
       "      <td>Le mois de \"septembre\" est un mois où il n'y a...</td>\n",
       "    </tr>\n",
       "    <tr>\n",
       "      <th>1</th>\n",
       "      <td>á lò ō né gɨ́-ǹ</td>\n",
       "      <td>Regarde cette chose là</td>\n",
       "    </tr>\n",
       "    <tr>\n",
       "      <th>2</th>\n",
       "      <td>ɗí ɓá à ɗā-né wà?</td>\n",
       "      <td>Qu'a-t-il en faire?</td>\n",
       "    </tr>\n",
       "    <tr>\n",
       "      <th>3</th>\n",
       "      <td>à ɗèē bèlè</td>\n",
       "      <td>Il viendra demain</td>\n",
       "    </tr>\n",
       "    <tr>\n",
       "      <th>4</th>\n",
       "      <td>àw̄ ɗá à?</td>\n",
       "      <td>Où est-il parti?</td>\n",
       "    </tr>\n",
       "  </tbody>\n",
       "</table>\n",
       "</div>"
      ],
      "text/plain": [
       "                                           sw  \\\n",
       "0  āɓēlə̀kó̰y lé tō nā̰y gɨ́ né-sɔ̀ tō yā̰ èĺ   \n",
       "1                             á lò ō né gɨ́-ǹ   \n",
       "2                           ɗí ɓá à ɗā-né wà?   \n",
       "3                                  à ɗèē bèlè   \n",
       "4                                   àw̄ ɗá à?   \n",
       "\n",
       "                                                  fr  \n",
       "0  Le mois de \"septembre\" est un mois où il n'y a...  \n",
       "1                             Regarde cette chose là  \n",
       "2                                Qu'a-t-il en faire?  \n",
       "3                                  Il viendra demain  \n",
       "4                                   Où est-il parti?  "
      ]
     },
     "execution_count": 91,
     "metadata": {},
     "output_type": "execute_result"
    }
   ],
   "source": [
    "df_final.head()"
   ]
  },
  {
   "cell_type": "code",
   "execution_count": 92,
   "metadata": {},
   "outputs": [
    {
     "data": {
      "text/plain": [
       "38073"
      ]
     },
     "execution_count": 92,
     "metadata": {},
     "output_type": "execute_result"
    }
   ],
   "source": [
    "len(df_final)"
   ]
  },
  {
   "cell_type": "code",
   "execution_count": 93,
   "metadata": {},
   "outputs": [],
   "source": [
    "#we shuffle the dataframe\n",
    "from sklearn.utils import shuffle\n",
    "df_final = shuffle(df_final)"
   ]
  },
  {
   "cell_type": "code",
   "execution_count": 94,
   "metadata": {},
   "outputs": [],
   "source": [
    "train , val = train_test_split(df_final , test_size=0.2,random_state=42)\n",
    "train ,test =train_test_split(train , test_size=0.2, random_state=42)\n",
    "\n",
    "train=train.reset_index(drop=True)\n",
    "val=val.reset_index(drop=True)\n",
    "test=test.reset_index(drop=True)"
   ]
  },
  {
   "cell_type": "code",
   "execution_count": 95,
   "metadata": {},
   "outputs": [
    {
     "name": "stdout",
     "output_type": "stream",
     "text": [
      "Requirement already satisfied: jsonlines in /opt/conda/lib/python3.7/site-packages (3.1.0)\n",
      "Requirement already satisfied: typing-extensions in /opt/conda/lib/python3.7/site-packages (from jsonlines) (4.4.0)\n",
      "Requirement already satisfied: attrs>=19.2.0 in /opt/conda/lib/python3.7/site-packages (from jsonlines) (22.2.0)\n",
      "Note: you may need to restart the kernel to use updated packages.\n"
     ]
    }
   ],
   "source": [
    "pip install jsonlines"
   ]
  },
  {
   "cell_type": "code",
   "execution_count": 97,
   "metadata": {},
   "outputs": [],
   "source": [
    "import jsonlines"
   ]
  },
  {
   "cell_type": "code",
   "execution_count": 98,
   "metadata": {
    "id": "TGms-c82Ks8t"
   },
   "outputs": [],
   "source": [
    "with jsonlines.open('sba_fr_train_sy.json', mode='w') as writer:\n",
    "  for i in range(len(train)):\n",
    "    writer.write({\"translation\":{'fr':train[\"fr\"][i],'sw':train[\"sw\"][i] }})\n",
    "\n",
    "with jsonlines.open('sba_fr_val_sy.json', mode='w') as writer:\n",
    "  for i in range(len(val)):\n",
    "    writer.write({\"translation\":{'fr':val[\"fr\"][i],'sw':val[\"sw\"][i]}})\n",
    "\n",
    "with jsonlines.open('sba_fr_test_sy.json', mode='w') as writer:\n",
    "  for i in range(len(test)):\n",
    "    writer.write({\"translation\":{'fr':test[\"fr\"][i],'sw':test[\"sw\"][i]}})"
   ]
  },
  {
   "cell_type": "markdown",
   "metadata": {
    "id": "ONRkYt9EM97f"
   },
   "source": [
    "## Split test into sentences"
   ]
  },
  {
   "cell_type": "code",
   "execution_count": 37,
   "metadata": {},
   "outputs": [
    {
     "ename": "FileNotFoundError",
     "evalue": "[Errno 2] No such file or directory: 'french.txt'",
     "output_type": "error",
     "traceback": [
      "\u001b[0;31m---------------------------------------------------------------------------\u001b[0m",
      "\u001b[0;31mFileNotFoundError\u001b[0m                         Traceback (most recent call last)",
      "\u001b[0;32m/var/tmp/ipykernel_541/1088609398.py\u001b[0m in \u001b[0;36m<module>\u001b[0;34m\u001b[0m\n\u001b[1;32m      2\u001b[0m \u001b[0;34m\u001b[0m\u001b[0m\n\u001b[1;32m      3\u001b[0m \u001b[0;31m# Open the input .txt file and read the contents\u001b[0m\u001b[0;34m\u001b[0m\u001b[0;34m\u001b[0m\u001b[0;34m\u001b[0m\u001b[0m\n\u001b[0;32m----> 4\u001b[0;31m \u001b[0;32mwith\u001b[0m \u001b[0mopen\u001b[0m\u001b[0;34m(\u001b[0m\u001b[0;34m'french.txt'\u001b[0m\u001b[0;34m,\u001b[0m \u001b[0;34m'r'\u001b[0m\u001b[0;34m)\u001b[0m \u001b[0;32mas\u001b[0m \u001b[0minput_file\u001b[0m\u001b[0;34m:\u001b[0m\u001b[0;34m\u001b[0m\u001b[0;34m\u001b[0m\u001b[0m\n\u001b[0m\u001b[1;32m      5\u001b[0m     \u001b[0minput_text\u001b[0m \u001b[0;34m=\u001b[0m \u001b[0minput_file\u001b[0m\u001b[0;34m.\u001b[0m\u001b[0mread\u001b[0m\u001b[0;34m(\u001b[0m\u001b[0;34m)\u001b[0m\u001b[0;34m\u001b[0m\u001b[0;34m\u001b[0m\u001b[0m\n\u001b[1;32m      6\u001b[0m \u001b[0;34m\u001b[0m\u001b[0m\n",
      "\u001b[0;31mFileNotFoundError\u001b[0m: [Errno 2] No such file or directory: 'french.txt'"
     ]
    }
   ],
   "source": [
    "import csv\n",
    "\n",
    "# Open the input .txt file and read the contents\n",
    "with open('french.txt', 'r') as input_file:\n",
    "    input_text = input_file.read()\n",
    "\n",
    "# Split the input text into sentences\n",
    "sentences = input_text.split('\\n')\n",
    "\n",
    "# Open the output .csv file and write the sentences to it\n",
    "with open('output.csv', 'w', newline='') as output_file:\n",
    "    writer = csv.writer(output_file)\n",
    "    writer.writerow(['sentences'])  # Write the header row\n",
    "    for sentence in sentences:\n",
    "        writer.writerow([sentence])  # Write each sentence as a row"
   ]
  },
  {
   "cell_type": "code",
   "execution_count": null,
   "metadata": {},
   "outputs": [],
   "source": []
  }
 ],
 "metadata": {
  "colab": {
   "provenance": []
  },
  "environment": {
   "kernel": "python3",
   "name": "common-cu110.m103",
   "type": "gcloud",
   "uri": "gcr.io/deeplearning-platform-release/base-cu110:m103"
  },
  "kernelspec": {
   "display_name": "Python 3",
   "language": "python",
   "name": "python3"
  },
  "language_info": {
   "codemirror_mode": {
    "name": "ipython",
    "version": 3
   },
   "file_extension": ".py",
   "mimetype": "text/x-python",
   "name": "python",
   "nbconvert_exporter": "python",
   "pygments_lexer": "ipython3",
   "version": "3.7.12"
  }
 },
 "nbformat": 4,
 "nbformat_minor": 4
}
