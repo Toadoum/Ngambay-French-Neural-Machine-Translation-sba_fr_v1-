{
 "cells": [
  {
   "cell_type": "code",
   "execution_count": 38,
   "metadata": {
    "id": "NEMdohzJJYXy"
   },
   "outputs": [],
   "source": [
    "import pandas as pd\n",
    "from sklearn.model_selection import train_test_split"
   ]
  },
  {
   "cell_type": "code",
   "execution_count": 39,
   "metadata": {
    "colab": {
     "base_uri": "https://localhost:8080/",
     "height": 206
    },
    "id": "DMnuAQQkJv79",
    "outputId": "4252f1eb-862f-4c9e-b476-9b1a35915a63"
   },
   "outputs": [
    {
     "data": {
      "text/html": [
       "<div>\n",
       "<style scoped>\n",
       "    .dataframe tbody tr th:only-of-type {\n",
       "        vertical-align: middle;\n",
       "    }\n",
       "\n",
       "    .dataframe tbody tr th {\n",
       "        vertical-align: top;\n",
       "    }\n",
       "\n",
       "    .dataframe thead th {\n",
       "        text-align: right;\n",
       "    }\n",
       "</style>\n",
       "<table border=\"1\" class=\"dataframe\">\n",
       "  <thead>\n",
       "    <tr style=\"text-align: right;\">\n",
       "      <th></th>\n",
       "      <th>Timestamp</th>\n",
       "      <th>Email address</th>\n",
       "      <th>sba</th>\n",
       "      <th>fr</th>\n",
       "    </tr>\n",
       "  </thead>\n",
       "  <tbody>\n",
       "    <tr>\n",
       "      <th>0</th>\n",
       "      <td>NaN</td>\n",
       "      <td>NaN</td>\n",
       "      <td>āɓēlə̀kó̰y lé tō nā̰y gɨ́ né-sɔ̀ tō yā̰ èĺ</td>\n",
       "      <td>Le mois de \"septembre\" est un mois où il n'y a...</td>\n",
       "    </tr>\n",
       "    <tr>\n",
       "      <th>1</th>\n",
       "      <td>12/07/2022 18:21:01</td>\n",
       "      <td>NaN</td>\n",
       "      <td>á lò ō né gɨ́-ǹ</td>\n",
       "      <td>Regarde cette chose là</td>\n",
       "    </tr>\n",
       "    <tr>\n",
       "      <th>2</th>\n",
       "      <td>12/07/2022 18:21:37</td>\n",
       "      <td>NaN</td>\n",
       "      <td>ɗí ɓá à ɗā-né wà?</td>\n",
       "      <td>Qu'a-t-il en faire?</td>\n",
       "    </tr>\n",
       "    <tr>\n",
       "      <th>3</th>\n",
       "      <td>12/07/2022 18:22:31</td>\n",
       "      <td>NaN</td>\n",
       "      <td>à ɗèē bèlè</td>\n",
       "      <td>Il viendra demain</td>\n",
       "    </tr>\n",
       "    <tr>\n",
       "      <th>4</th>\n",
       "      <td>12/07/2022 18:23:07</td>\n",
       "      <td>NaN</td>\n",
       "      <td>àw̄ ɗá à?</td>\n",
       "      <td>Où est-il parti?</td>\n",
       "    </tr>\n",
       "  </tbody>\n",
       "</table>\n",
       "</div>"
      ],
      "text/plain": [
       "             Timestamp  Email address  \\\n",
       "0                  NaN            NaN   \n",
       "1  12/07/2022 18:21:01            NaN   \n",
       "2  12/07/2022 18:21:37            NaN   \n",
       "3  12/07/2022 18:22:31            NaN   \n",
       "4  12/07/2022 18:23:07            NaN   \n",
       "\n",
       "                                          sba  \\\n",
       "0  āɓēlə̀kó̰y lé tō nā̰y gɨ́ né-sɔ̀ tō yā̰ èĺ   \n",
       "1                             á lò ō né gɨ́-ǹ   \n",
       "2                           ɗí ɓá à ɗā-né wà?   \n",
       "3                                  à ɗèē bèlè   \n",
       "4                                   àw̄ ɗá à?   \n",
       "\n",
       "                                                  fr  \n",
       "0  Le mois de \"septembre\" est un mois où il n'y a...  \n",
       "1                             Regarde cette chose là  \n",
       "2                                Qu'a-t-il en faire?  \n",
       "3                                  Il viendra demain  \n",
       "4                                   Où est-il parti?  "
      ]
     },
     "execution_count": 39,
     "metadata": {},
     "output_type": "execute_result"
    }
   ],
   "source": [
    "df1=pd.read_csv('/home/jupyter/Ngambay-French-Neural-Machine-Translation-sba_fr_v1-/Dataset/sba_fr_CSV/bitext_sba_fr.csv')\n",
    "df1.head()"
   ]
  },
  {
   "cell_type": "code",
   "execution_count": 40,
   "metadata": {
    "id": "tx4S97ZQLDlK"
   },
   "outputs": [],
   "source": [
    "df1.drop(['Timestamp', 'Email address'], axis=1, inplace=True)\n",
    "df1 = df1.rename(columns={'sba': 'sw'})"
   ]
  },
  {
   "cell_type": "code",
   "execution_count": 41,
   "metadata": {
    "colab": {
     "base_uri": "https://localhost:8080/",
     "height": 206
    },
    "id": "1TjgnznYLYJG",
    "outputId": "f8a10b7c-929d-4b77-f9e0-d2e7306d03b4"
   },
   "outputs": [
    {
     "data": {
      "text/html": [
       "<div>\n",
       "<style scoped>\n",
       "    .dataframe tbody tr th:only-of-type {\n",
       "        vertical-align: middle;\n",
       "    }\n",
       "\n",
       "    .dataframe tbody tr th {\n",
       "        vertical-align: top;\n",
       "    }\n",
       "\n",
       "    .dataframe thead th {\n",
       "        text-align: right;\n",
       "    }\n",
       "</style>\n",
       "<table border=\"1\" class=\"dataframe\">\n",
       "  <thead>\n",
       "    <tr style=\"text-align: right;\">\n",
       "      <th></th>\n",
       "      <th>sw</th>\n",
       "      <th>fr</th>\n",
       "    </tr>\n",
       "  </thead>\n",
       "  <tbody>\n",
       "    <tr>\n",
       "      <th>0</th>\n",
       "      <td>āɓēlə̀kó̰y lé tō nā̰y gɨ́ né-sɔ̀ tō yā̰ èĺ</td>\n",
       "      <td>Le mois de \"septembre\" est un mois où il n'y a...</td>\n",
       "    </tr>\n",
       "    <tr>\n",
       "      <th>1</th>\n",
       "      <td>á lò ō né gɨ́-ǹ</td>\n",
       "      <td>Regarde cette chose là</td>\n",
       "    </tr>\n",
       "    <tr>\n",
       "      <th>2</th>\n",
       "      <td>ɗí ɓá à ɗā-né wà?</td>\n",
       "      <td>Qu'a-t-il en faire?</td>\n",
       "    </tr>\n",
       "    <tr>\n",
       "      <th>3</th>\n",
       "      <td>à ɗèē bèlè</td>\n",
       "      <td>Il viendra demain</td>\n",
       "    </tr>\n",
       "    <tr>\n",
       "      <th>4</th>\n",
       "      <td>àw̄ ɗá à?</td>\n",
       "      <td>Où est-il parti?</td>\n",
       "    </tr>\n",
       "  </tbody>\n",
       "</table>\n",
       "</div>"
      ],
      "text/plain": [
       "                                           sw  \\\n",
       "0  āɓēlə̀kó̰y lé tō nā̰y gɨ́ né-sɔ̀ tō yā̰ èĺ   \n",
       "1                             á lò ō né gɨ́-ǹ   \n",
       "2                           ɗí ɓá à ɗā-né wà?   \n",
       "3                                  à ɗèē bèlè   \n",
       "4                                   àw̄ ɗá à?   \n",
       "\n",
       "                                                  fr  \n",
       "0  Le mois de \"septembre\" est un mois où il n'y a...  \n",
       "1                             Regarde cette chose là  \n",
       "2                                Qu'a-t-il en faire?  \n",
       "3                                  Il viendra demain  \n",
       "4                                   Où est-il parti?  "
      ]
     },
     "execution_count": 41,
     "metadata": {},
     "output_type": "execute_result"
    }
   ],
   "source": [
    "df1.head()"
   ]
  },
  {
   "cell_type": "code",
   "execution_count": 42,
   "metadata": {
    "colab": {
     "base_uri": "https://localhost:8080/"
    },
    "id": "9KrP6tCuLaoU",
    "outputId": "148b8d58-5536-46c0-a9da-8ee5e7e0d051"
   },
   "outputs": [
    {
     "data": {
      "text/plain": [
       "1176"
      ]
     },
     "execution_count": 42,
     "metadata": {},
     "output_type": "execute_result"
    }
   ],
   "source": [
    "len(df1)"
   ]
  },
  {
   "cell_type": "code",
   "execution_count": 43,
   "metadata": {
    "colab": {
     "base_uri": "https://localhost:8080/",
     "height": 206
    },
    "id": "7TXaknW4KB-8",
    "outputId": "01230571-488a-445b-8de2-4ec18887994f"
   },
   "outputs": [
    {
     "data": {
      "text/html": [
       "<div>\n",
       "<style scoped>\n",
       "    .dataframe tbody tr th:only-of-type {\n",
       "        vertical-align: middle;\n",
       "    }\n",
       "\n",
       "    .dataframe tbody tr th {\n",
       "        vertical-align: top;\n",
       "    }\n",
       "\n",
       "    .dataframe thead th {\n",
       "        text-align: right;\n",
       "    }\n",
       "</style>\n",
       "<table border=\"1\" class=\"dataframe\">\n",
       "  <thead>\n",
       "    <tr style=\"text-align: right;\">\n",
       "      <th></th>\n",
       "      <th>ChapterID</th>\n",
       "      <th>VerseID</th>\n",
       "      <th>Content_SBA</th>\n",
       "      <th>Content_Fr</th>\n",
       "    </tr>\n",
       "  </thead>\n",
       "  <tbody>\n",
       "    <tr>\n",
       "      <th>0</th>\n",
       "      <td>GEN.1</td>\n",
       "      <td>1</td>\n",
       "      <td>1Kédé gə́ dɔtar lé, Ala unda dara gə naŋg nee tɔ.</td>\n",
       "      <td>1 Au commencement, Dieu créa les cieux et la t...</td>\n",
       "    </tr>\n",
       "    <tr>\n",
       "      <th>1</th>\n",
       "      <td>GEN.1</td>\n",
       "      <td>2</td>\n",
       "      <td>2Loo gə́ naŋg nee lé to kari ba ləm, né kára k...</td>\n",
       "      <td>2 La terre était informe et vide; il y avait d...</td>\n",
       "    </tr>\n",
       "    <tr>\n",
       "      <th>2</th>\n",
       "      <td>GEN.1</td>\n",
       "      <td>3</td>\n",
       "      <td>3Ala pana: Maji kar loo àr! Ndá loo àr ya tɔ .</td>\n",
       "      <td>3 Dieu dit: Que la lumière soit! Et la lumière...</td>\n",
       "    </tr>\n",
       "    <tr>\n",
       "      <th>3</th>\n",
       "      <td>GEN.1</td>\n",
       "      <td>4</td>\n",
       "      <td>4Ala oo to gə́ loo gə́ àr lé to maji ya! Ɓa Al...</td>\n",
       "      <td>4 Dieu vit que la lumière était bonne; et Dieu...</td>\n",
       "    </tr>\n",
       "    <tr>\n",
       "      <th>4</th>\n",
       "      <td>GEN.1</td>\n",
       "      <td>5</td>\n",
       "      <td>5Loo gə́ àr lé Ala ɓaree lookàr ləm, loo gə́ t...</td>\n",
       "      <td>5 Dieu appela la lumière jour, et il appela le...</td>\n",
       "    </tr>\n",
       "  </tbody>\n",
       "</table>\n",
       "</div>"
      ],
      "text/plain": [
       "  ChapterID  VerseID                                        Content_SBA  \\\n",
       "0     GEN.1        1  1Kédé gə́ dɔtar lé, Ala unda dara gə naŋg nee tɔ.   \n",
       "1     GEN.1        2  2Loo gə́ naŋg nee lé to kari ba ləm, né kára k...   \n",
       "2     GEN.1        3    3Ala pana: Maji kar loo àr! Ndá loo àr ya tɔ .    \n",
       "3     GEN.1        4  4Ala oo to gə́ loo gə́ àr lé to maji ya! Ɓa Al...   \n",
       "4     GEN.1        5  5Loo gə́ àr lé Ala ɓaree lookàr ləm, loo gə́ t...   \n",
       "\n",
       "                                          Content_Fr  \n",
       "0  1 Au commencement, Dieu créa les cieux et la t...  \n",
       "1  2 La terre était informe et vide; il y avait d...  \n",
       "2  3 Dieu dit: Que la lumière soit! Et la lumière...  \n",
       "3  4 Dieu vit que la lumière était bonne; et Dieu...  \n",
       "4  5 Dieu appela la lumière jour, et il appela le...  "
      ]
     },
     "execution_count": 43,
     "metadata": {},
     "output_type": "execute_result"
    }
   ],
   "source": [
    "df2=pd.read_csv('/home/jupyter/Ngambay-French-Neural-Machine-Translation-sba_fr_v1-/Dataset/sba_fr_CSV/bible data.csv')\n",
    "df2.head()"
   ]
  },
  {
   "cell_type": "code",
   "execution_count": 44,
   "metadata": {
    "id": "olRqqydZKQKx"
   },
   "outputs": [],
   "source": [
    "df2.drop(['ChapterID', 'VerseID'], axis=1, inplace=True)\n",
    "df2 = df2.rename(columns={'Content_SBA': 'sw','Content_Fr': 'fr'})"
   ]
  },
  {
   "cell_type": "code",
   "execution_count": 45,
   "metadata": {
    "id": "smAC_kUXKgql"
   },
   "outputs": [],
   "source": [
    "df2.dropna(inplace=True)"
   ]
  },
  {
   "cell_type": "code",
   "execution_count": 46,
   "metadata": {
    "colab": {
     "base_uri": "https://localhost:8080/",
     "height": 206
    },
    "id": "-7GAlisQKz1C",
    "outputId": "99487e09-0659-4c5d-a7a7-0d92fa712275"
   },
   "outputs": [
    {
     "data": {
      "text/html": [
       "<div>\n",
       "<style scoped>\n",
       "    .dataframe tbody tr th:only-of-type {\n",
       "        vertical-align: middle;\n",
       "    }\n",
       "\n",
       "    .dataframe tbody tr th {\n",
       "        vertical-align: top;\n",
       "    }\n",
       "\n",
       "    .dataframe thead th {\n",
       "        text-align: right;\n",
       "    }\n",
       "</style>\n",
       "<table border=\"1\" class=\"dataframe\">\n",
       "  <thead>\n",
       "    <tr style=\"text-align: right;\">\n",
       "      <th></th>\n",
       "      <th>sw</th>\n",
       "      <th>fr</th>\n",
       "    </tr>\n",
       "  </thead>\n",
       "  <tbody>\n",
       "    <tr>\n",
       "      <th>0</th>\n",
       "      <td>1Kédé gə́ dɔtar lé, Ala unda dara gə naŋg nee tɔ.</td>\n",
       "      <td>1 Au commencement, Dieu créa les cieux et la t...</td>\n",
       "    </tr>\n",
       "    <tr>\n",
       "      <th>1</th>\n",
       "      <td>2Loo gə́ naŋg nee lé to kari ba ləm, né kára k...</td>\n",
       "      <td>2 La terre était informe et vide; il y avait d...</td>\n",
       "    </tr>\n",
       "    <tr>\n",
       "      <th>2</th>\n",
       "      <td>3Ala pana: Maji kar loo àr! Ndá loo àr ya tɔ .</td>\n",
       "      <td>3 Dieu dit: Que la lumière soit! Et la lumière...</td>\n",
       "    </tr>\n",
       "    <tr>\n",
       "      <th>3</th>\n",
       "      <td>4Ala oo to gə́ loo gə́ àr lé to maji ya! Ɓa Al...</td>\n",
       "      <td>4 Dieu vit que la lumière était bonne; et Dieu...</td>\n",
       "    </tr>\n",
       "    <tr>\n",
       "      <th>4</th>\n",
       "      <td>5Loo gə́ àr lé Ala ɓaree lookàr ləm, loo gə́ t...</td>\n",
       "      <td>5 Dieu appela la lumière jour, et il appela le...</td>\n",
       "    </tr>\n",
       "  </tbody>\n",
       "</table>\n",
       "</div>"
      ],
      "text/plain": [
       "                                                  sw  \\\n",
       "0  1Kédé gə́ dɔtar lé, Ala unda dara gə naŋg nee tɔ.   \n",
       "1  2Loo gə́ naŋg nee lé to kari ba ləm, né kára k...   \n",
       "2    3Ala pana: Maji kar loo àr! Ndá loo àr ya tɔ .    \n",
       "3  4Ala oo to gə́ loo gə́ àr lé to maji ya! Ɓa Al...   \n",
       "4  5Loo gə́ àr lé Ala ɓaree lookàr ləm, loo gə́ t...   \n",
       "\n",
       "                                                  fr  \n",
       "0  1 Au commencement, Dieu créa les cieux et la t...  \n",
       "1  2 La terre était informe et vide; il y avait d...  \n",
       "2  3 Dieu dit: Que la lumière soit! Et la lumière...  \n",
       "3  4 Dieu vit que la lumière était bonne; et Dieu...  \n",
       "4  5 Dieu appela la lumière jour, et il appela le...  "
      ]
     },
     "execution_count": 46,
     "metadata": {},
     "output_type": "execute_result"
    }
   ],
   "source": [
    "df2.head()"
   ]
  },
  {
   "cell_type": "code",
   "execution_count": 47,
   "metadata": {
    "colab": {
     "base_uri": "https://localhost:8080/"
    },
    "id": "wJahenRtLdu9",
    "outputId": "5e60eadf-cdeb-4671-81be-f521a1ab54fd"
   },
   "outputs": [
    {
     "data": {
      "text/plain": [
       "31897"
      ]
     },
     "execution_count": 47,
     "metadata": {},
     "output_type": "execute_result"
    }
   ],
   "source": [
    "len(df2)"
   ]
  },
  {
   "cell_type": "code",
   "execution_count": 48,
   "metadata": {
    "id": "_OGT4gz3Lf6V"
   },
   "outputs": [],
   "source": [
    "#Merge the two dataframe\n",
    "frames = [df1, df2]\n",
    "\n",
    "df = pd.concat(frames)"
   ]
  },
  {
   "cell_type": "code",
   "execution_count": 49,
   "metadata": {
    "colab": {
     "base_uri": "https://localhost:8080/",
     "height": 206
    },
    "id": "yC7-1YTAL8cn",
    "outputId": "209017e8-f41d-4fde-b77b-dbacf343ca3a"
   },
   "outputs": [
    {
     "data": {
      "text/html": [
       "<div>\n",
       "<style scoped>\n",
       "    .dataframe tbody tr th:only-of-type {\n",
       "        vertical-align: middle;\n",
       "    }\n",
       "\n",
       "    .dataframe tbody tr th {\n",
       "        vertical-align: top;\n",
       "    }\n",
       "\n",
       "    .dataframe thead th {\n",
       "        text-align: right;\n",
       "    }\n",
       "</style>\n",
       "<table border=\"1\" class=\"dataframe\">\n",
       "  <thead>\n",
       "    <tr style=\"text-align: right;\">\n",
       "      <th></th>\n",
       "      <th>sw</th>\n",
       "      <th>fr</th>\n",
       "    </tr>\n",
       "  </thead>\n",
       "  <tbody>\n",
       "    <tr>\n",
       "      <th>0</th>\n",
       "      <td>āɓēlə̀kó̰y lé tō nā̰y gɨ́ né-sɔ̀ tō yā̰ èĺ</td>\n",
       "      <td>Le mois de \"septembre\" est un mois où il n'y a...</td>\n",
       "    </tr>\n",
       "    <tr>\n",
       "      <th>1</th>\n",
       "      <td>á lò ō né gɨ́-ǹ</td>\n",
       "      <td>Regarde cette chose là</td>\n",
       "    </tr>\n",
       "    <tr>\n",
       "      <th>2</th>\n",
       "      <td>ɗí ɓá à ɗā-né wà?</td>\n",
       "      <td>Qu'a-t-il en faire?</td>\n",
       "    </tr>\n",
       "    <tr>\n",
       "      <th>3</th>\n",
       "      <td>à ɗèē bèlè</td>\n",
       "      <td>Il viendra demain</td>\n",
       "    </tr>\n",
       "    <tr>\n",
       "      <th>4</th>\n",
       "      <td>àw̄ ɗá à?</td>\n",
       "      <td>Où est-il parti?</td>\n",
       "    </tr>\n",
       "  </tbody>\n",
       "</table>\n",
       "</div>"
      ],
      "text/plain": [
       "                                           sw  \\\n",
       "0  āɓēlə̀kó̰y lé tō nā̰y gɨ́ né-sɔ̀ tō yā̰ èĺ   \n",
       "1                             á lò ō né gɨ́-ǹ   \n",
       "2                           ɗí ɓá à ɗā-né wà?   \n",
       "3                                  à ɗèē bèlè   \n",
       "4                                   àw̄ ɗá à?   \n",
       "\n",
       "                                                  fr  \n",
       "0  Le mois de \"septembre\" est un mois où il n'y a...  \n",
       "1                             Regarde cette chose là  \n",
       "2                                Qu'a-t-il en faire?  \n",
       "3                                  Il viendra demain  \n",
       "4                                   Où est-il parti?  "
      ]
     },
     "execution_count": 49,
     "metadata": {},
     "output_type": "execute_result"
    }
   ],
   "source": [
    "df.head()"
   ]
  },
  {
   "cell_type": "code",
   "execution_count": 50,
   "metadata": {
    "colab": {
     "base_uri": "https://localhost:8080/"
    },
    "id": "oTSuLs7PMAJe",
    "outputId": "69cc9c6b-42ad-46c3-ddc3-81c63e400882"
   },
   "outputs": [
    {
     "data": {
      "text/plain": [
       "33073"
      ]
     },
     "execution_count": 50,
     "metadata": {},
     "output_type": "execute_result"
    }
   ],
   "source": [
    "len(df)"
   ]
  },
  {
   "cell_type": "code",
   "execution_count": 51,
   "metadata": {
    "colab": {
     "base_uri": "https://localhost:8080/",
     "height": 206
    },
    "id": "kvz_e4HvMxgL",
    "outputId": "527a118c-6d74-432e-b017-c3b45803f2fc"
   },
   "outputs": [
    {
     "data": {
      "text/html": [
       "<div>\n",
       "<style scoped>\n",
       "    .dataframe tbody tr th:only-of-type {\n",
       "        vertical-align: middle;\n",
       "    }\n",
       "\n",
       "    .dataframe tbody tr th {\n",
       "        vertical-align: top;\n",
       "    }\n",
       "\n",
       "    .dataframe thead th {\n",
       "        text-align: right;\n",
       "    }\n",
       "</style>\n",
       "<table border=\"1\" class=\"dataframe\">\n",
       "  <thead>\n",
       "    <tr style=\"text-align: right;\">\n",
       "      <th></th>\n",
       "      <th>sw</th>\n",
       "      <th>fr</th>\n",
       "    </tr>\n",
       "  </thead>\n",
       "  <tbody>\n",
       "    <tr>\n",
       "      <th>0</th>\n",
       "      <td>āɓēlə̀kó̰y lé tō nā̰y gɨ́ né-sɔ̀ tō yā̰ èĺ</td>\n",
       "      <td>Le mois de \"septembre\" est un mois où il n'y a...</td>\n",
       "    </tr>\n",
       "    <tr>\n",
       "      <th>1</th>\n",
       "      <td>á lò ō né gɨ́-ǹ</td>\n",
       "      <td>Regarde cette chose là</td>\n",
       "    </tr>\n",
       "    <tr>\n",
       "      <th>2</th>\n",
       "      <td>ɗí ɓá à ɗā-né wà?</td>\n",
       "      <td>Qu'a-t-il en faire?</td>\n",
       "    </tr>\n",
       "    <tr>\n",
       "      <th>3</th>\n",
       "      <td>à ɗèē bèlè</td>\n",
       "      <td>Il viendra demain</td>\n",
       "    </tr>\n",
       "    <tr>\n",
       "      <th>4</th>\n",
       "      <td>àw̄ ɗá à?</td>\n",
       "      <td>Où est-il parti?</td>\n",
       "    </tr>\n",
       "  </tbody>\n",
       "</table>\n",
       "</div>"
      ],
      "text/plain": [
       "                                           sw  \\\n",
       "0  āɓēlə̀kó̰y lé tō nā̰y gɨ́ né-sɔ̀ tō yā̰ èĺ   \n",
       "1                             á lò ō né gɨ́-ǹ   \n",
       "2                           ɗí ɓá à ɗā-né wà?   \n",
       "3                                  à ɗèē bèlè   \n",
       "4                                   àw̄ ɗá à?   \n",
       "\n",
       "                                                  fr  \n",
       "0  Le mois de \"septembre\" est un mois où il n'y a...  \n",
       "1                             Regarde cette chose là  \n",
       "2                                Qu'a-t-il en faire?  \n",
       "3                                  Il viendra demain  \n",
       "4                                   Où est-il parti?  "
      ]
     },
     "execution_count": 51,
     "metadata": {},
     "output_type": "execute_result"
    }
   ],
   "source": [
    "df.head()"
   ]
  },
  {
   "cell_type": "markdown",
   "metadata": {},
   "source": [
    "## Synthetic dataset"
   ]
  },
  {
   "cell_type": "code",
   "execution_count": 52,
   "metadata": {},
   "outputs": [
    {
     "data": {
      "text/html": [
       "<div>\n",
       "<style scoped>\n",
       "    .dataframe tbody tr th:only-of-type {\n",
       "        vertical-align: middle;\n",
       "    }\n",
       "\n",
       "    .dataframe tbody tr th {\n",
       "        vertical-align: top;\n",
       "    }\n",
       "\n",
       "    .dataframe thead th {\n",
       "        text-align: right;\n",
       "    }\n",
       "</style>\n",
       "<table border=\"1\" class=\"dataframe\">\n",
       "  <thead>\n",
       "    <tr style=\"text-align: right;\">\n",
       "      <th></th>\n",
       "      <th>sentences</th>\n",
       "    </tr>\n",
       "  </thead>\n",
       "  <tbody>\n",
       "    <tr>\n",
       "      <th>0</th>\n",
       "      <td>Il a à son actif des propositions de systèmes ...</td>\n",
       "    </tr>\n",
       "    <tr>\n",
       "      <th>1</th>\n",
       "      <td>En 2019, il a mis au point le Plan « OBAR » do...</td>\n",
       "    </tr>\n",
       "    <tr>\n",
       "      <th>2</th>\n",
       "      <td>Dans cette interview réalisée aux lendemains d...</td>\n",
       "    </tr>\n",
       "    <tr>\n",
       "      <th>3</th>\n",
       "      <td>Mieux, il affirme que s’il est mis en œuvre su...</td>\n",
       "    </tr>\n",
       "    <tr>\n",
       "      <th>4</th>\n",
       "      <td>Vous avez mis au point le Plan « OBAR » qui do...</td>\n",
       "    </tr>\n",
       "  </tbody>\n",
       "</table>\n",
       "</div>"
      ],
      "text/plain": [
       "                                           sentences\n",
       "0  Il a à son actif des propositions de systèmes ...\n",
       "1  En 2019, il a mis au point le Plan « OBAR » do...\n",
       "2  Dans cette interview réalisée aux lendemains d...\n",
       "3  Mieux, il affirme que s’il est mis en œuvre su...\n",
       "4  Vous avez mis au point le Plan « OBAR » qui do..."
      ]
     },
     "execution_count": 52,
     "metadata": {},
     "output_type": "execute_result"
    }
   ],
   "source": [
    "df3=pd.read_csv('/home/jupyter/Ngambay-French-Neural-Machine-Translation-sba_fr_v1-/Dataset/sba_fr_CSV/output-3.csv')\n",
    "df3.head()"
   ]
  },
  {
   "cell_type": "code",
   "execution_count": 53,
   "metadata": {},
   "outputs": [
    {
     "data": {
      "text/html": [
       "<div>\n",
       "<style scoped>\n",
       "    .dataframe tbody tr th:only-of-type {\n",
       "        vertical-align: middle;\n",
       "    }\n",
       "\n",
       "    .dataframe tbody tr th {\n",
       "        vertical-align: top;\n",
       "    }\n",
       "\n",
       "    .dataframe thead th {\n",
       "        text-align: right;\n",
       "    }\n",
       "</style>\n",
       "<table border=\"1\" class=\"dataframe\">\n",
       "  <thead>\n",
       "    <tr style=\"text-align: right;\">\n",
       "      <th></th>\n",
       "      <th>sba</th>\n",
       "    </tr>\n",
       "  </thead>\n",
       "  <tbody>\n",
       "    <tr>\n",
       "      <th>0</th>\n",
       "      <td>Oiyo, mbɔl dəa ɓa ye wɔji ne gin néje gə́ kəm ...</td>\n",
       "    </tr>\n",
       "    <tr>\n",
       "      <th>1</th>\n",
       "      <td>Bèe ɓa, mee ndəa gə́ wɔji dɔ de gə́ d’isi kene...</td>\n",
       "    </tr>\n",
       "    <tr>\n",
       "      <th>2</th>\n",
       "      <td>ŋgɔl gə́ ye wɔji loo-rɔ’g lə Sotan gə́ d’wəi k...</td>\n",
       "    </tr>\n",
       "    <tr>\n",
       "      <th>3</th>\n",
       "      <td>ɓó lé ye ula dee pana: Ɓó lé d’a kɔm kula gə́ ...</td>\n",
       "    </tr>\n",
       "    <tr>\n",
       "      <th>4</th>\n",
       "      <td>Se gɔlje néndaji gə́ wɔji dɔ Obar gə́ kəm kya ...</td>\n",
       "    </tr>\n",
       "  </tbody>\n",
       "</table>\n",
       "</div>"
      ],
      "text/plain": [
       "                                                 sba\n",
       "0  Oiyo, mbɔl dəa ɓa ye wɔji ne gin néje gə́ kəm ...\n",
       "1  Bèe ɓa, mee ndəa gə́ wɔji dɔ de gə́ d’isi kene...\n",
       "2  ŋgɔl gə́ ye wɔji loo-rɔ’g lə Sotan gə́ d’wəi k...\n",
       "3  ɓó lé ye ula dee pana: Ɓó lé d’a kɔm kula gə́ ...\n",
       "4  Se gɔlje néndaji gə́ wɔji dɔ Obar gə́ kəm kya ..."
      ]
     },
     "execution_count": 53,
     "metadata": {},
     "output_type": "execute_result"
    }
   ],
   "source": [
    "df4=pd.read_csv('/home/jupyter/Ngambay-French-Neural-Machine-Translation-sba_fr_v1-/Dataset/sba_fr_CSV/sba.csv')\n",
    "df4.head()"
   ]
  },
  {
   "cell_type": "markdown",
   "metadata": {},
   "source": [
    "### Concatenate the two dataframes to have our bitext synthetic data"
   ]
  },
  {
   "cell_type": "code",
   "execution_count": 54,
   "metadata": {},
   "outputs": [],
   "source": [
    "result = pd.concat([df4,df3], axis=1)"
   ]
  },
  {
   "cell_type": "code",
   "execution_count": 55,
   "metadata": {},
   "outputs": [
    {
     "data": {
      "text/html": [
       "<div>\n",
       "<style scoped>\n",
       "    .dataframe tbody tr th:only-of-type {\n",
       "        vertical-align: middle;\n",
       "    }\n",
       "\n",
       "    .dataframe tbody tr th {\n",
       "        vertical-align: top;\n",
       "    }\n",
       "\n",
       "    .dataframe thead th {\n",
       "        text-align: right;\n",
       "    }\n",
       "</style>\n",
       "<table border=\"1\" class=\"dataframe\">\n",
       "  <thead>\n",
       "    <tr style=\"text-align: right;\">\n",
       "      <th></th>\n",
       "      <th>sba</th>\n",
       "      <th>sentences</th>\n",
       "    </tr>\n",
       "  </thead>\n",
       "  <tbody>\n",
       "    <tr>\n",
       "      <th>0</th>\n",
       "      <td>Oiyo, mbɔl dəa ɓa ye wɔji ne gin néje gə́ kəm ...</td>\n",
       "      <td>Il a à son actif des propositions de systèmes ...</td>\n",
       "    </tr>\n",
       "    <tr>\n",
       "      <th>1</th>\n",
       "      <td>Bèe ɓa, mee ndəa gə́ wɔji dɔ de gə́ d’isi kene...</td>\n",
       "      <td>En 2019, il a mis au point le Plan « OBAR » do...</td>\n",
       "    </tr>\n",
       "    <tr>\n",
       "      <th>2</th>\n",
       "      <td>ŋgɔl gə́ ye wɔji loo-rɔ’g lə Sotan gə́ d’wəi k...</td>\n",
       "      <td>Dans cette interview réalisée aux lendemains d...</td>\n",
       "    </tr>\n",
       "    <tr>\n",
       "      <th>3</th>\n",
       "      <td>ɓó lé ye ula dee pana: Ɓó lé d’a kɔm kula gə́ ...</td>\n",
       "      <td>Mieux, il affirme que s’il est mis en œuvre su...</td>\n",
       "    </tr>\n",
       "    <tr>\n",
       "      <th>4</th>\n",
       "      <td>Se gɔlje néndaji gə́ wɔji dɔ Obar gə́ kəm kya ...</td>\n",
       "      <td>Vous avez mis au point le Plan « OBAR » qui do...</td>\n",
       "    </tr>\n",
       "  </tbody>\n",
       "</table>\n",
       "</div>"
      ],
      "text/plain": [
       "                                                 sba  \\\n",
       "0  Oiyo, mbɔl dəa ɓa ye wɔji ne gin néje gə́ kəm ...   \n",
       "1  Bèe ɓa, mee ndəa gə́ wɔji dɔ de gə́ d’isi kene...   \n",
       "2  ŋgɔl gə́ ye wɔji loo-rɔ’g lə Sotan gə́ d’wəi k...   \n",
       "3  ɓó lé ye ula dee pana: Ɓó lé d’a kɔm kula gə́ ...   \n",
       "4  Se gɔlje néndaji gə́ wɔji dɔ Obar gə́ kəm kya ...   \n",
       "\n",
       "                                           sentences  \n",
       "0  Il a à son actif des propositions de systèmes ...  \n",
       "1  En 2019, il a mis au point le Plan « OBAR » do...  \n",
       "2  Dans cette interview réalisée aux lendemains d...  \n",
       "3  Mieux, il affirme que s’il est mis en œuvre su...  \n",
       "4  Vous avez mis au point le Plan « OBAR » qui do...  "
      ]
     },
     "execution_count": 55,
     "metadata": {},
     "output_type": "execute_result"
    }
   ],
   "source": [
    "result.head()"
   ]
  },
  {
   "cell_type": "code",
   "execution_count": 56,
   "metadata": {},
   "outputs": [],
   "source": [
    "result = result.rename(columns={'sba': 'sw','sentences': 'fr'})"
   ]
  },
  {
   "cell_type": "code",
   "execution_count": 57,
   "metadata": {},
   "outputs": [
    {
     "data": {
      "text/html": [
       "<div>\n",
       "<style scoped>\n",
       "    .dataframe tbody tr th:only-of-type {\n",
       "        vertical-align: middle;\n",
       "    }\n",
       "\n",
       "    .dataframe tbody tr th {\n",
       "        vertical-align: top;\n",
       "    }\n",
       "\n",
       "    .dataframe thead th {\n",
       "        text-align: right;\n",
       "    }\n",
       "</style>\n",
       "<table border=\"1\" class=\"dataframe\">\n",
       "  <thead>\n",
       "    <tr style=\"text-align: right;\">\n",
       "      <th></th>\n",
       "      <th>sw</th>\n",
       "      <th>fr</th>\n",
       "    </tr>\n",
       "  </thead>\n",
       "  <tbody>\n",
       "    <tr>\n",
       "      <th>0</th>\n",
       "      <td>Oiyo, mbɔl dəa ɓa ye wɔji ne gin néje gə́ kəm ...</td>\n",
       "      <td>Il a à son actif des propositions de systèmes ...</td>\n",
       "    </tr>\n",
       "    <tr>\n",
       "      <th>1</th>\n",
       "      <td>Bèe ɓa, mee ndəa gə́ wɔji dɔ de gə́ d’isi kene...</td>\n",
       "      <td>En 2019, il a mis au point le Plan « OBAR » do...</td>\n",
       "    </tr>\n",
       "    <tr>\n",
       "      <th>2</th>\n",
       "      <td>ŋgɔl gə́ ye wɔji loo-rɔ’g lə Sotan gə́ d’wəi k...</td>\n",
       "      <td>Dans cette interview réalisée aux lendemains d...</td>\n",
       "    </tr>\n",
       "    <tr>\n",
       "      <th>3</th>\n",
       "      <td>ɓó lé ye ula dee pana: Ɓó lé d’a kɔm kula gə́ ...</td>\n",
       "      <td>Mieux, il affirme que s’il est mis en œuvre su...</td>\n",
       "    </tr>\n",
       "    <tr>\n",
       "      <th>4</th>\n",
       "      <td>Se gɔlje néndaji gə́ wɔji dɔ Obar gə́ kəm kya ...</td>\n",
       "      <td>Vous avez mis au point le Plan « OBAR » qui do...</td>\n",
       "    </tr>\n",
       "  </tbody>\n",
       "</table>\n",
       "</div>"
      ],
      "text/plain": [
       "                                                  sw  \\\n",
       "0  Oiyo, mbɔl dəa ɓa ye wɔji ne gin néje gə́ kəm ...   \n",
       "1  Bèe ɓa, mee ndəa gə́ wɔji dɔ de gə́ d’isi kene...   \n",
       "2  ŋgɔl gə́ ye wɔji loo-rɔ’g lə Sotan gə́ d’wəi k...   \n",
       "3  ɓó lé ye ula dee pana: Ɓó lé d’a kɔm kula gə́ ...   \n",
       "4  Se gɔlje néndaji gə́ wɔji dɔ Obar gə́ kəm kya ...   \n",
       "\n",
       "                                                  fr  \n",
       "0  Il a à son actif des propositions de systèmes ...  \n",
       "1  En 2019, il a mis au point le Plan « OBAR » do...  \n",
       "2  Dans cette interview réalisée aux lendemains d...  \n",
       "3  Mieux, il affirme que s’il est mis en œuvre su...  \n",
       "4  Vous avez mis au point le Plan « OBAR » qui do...  "
      ]
     },
     "execution_count": 57,
     "metadata": {},
     "output_type": "execute_result"
    }
   ],
   "source": [
    "result.head()"
   ]
  },
  {
   "cell_type": "markdown",
   "metadata": {},
   "source": [
    "## Combine Original and Synthetic Data"
   ]
  },
  {
   "cell_type": "code",
   "execution_count": 58,
   "metadata": {},
   "outputs": [],
   "source": [
    "#Merge the two dataframe\n",
    "frames = [df, result]\n",
    "\n",
    "df_final = pd.concat(frames)"
   ]
  },
  {
   "cell_type": "code",
   "execution_count": 59,
   "metadata": {},
   "outputs": [
    {
     "data": {
      "text/html": [
       "<div>\n",
       "<style scoped>\n",
       "    .dataframe tbody tr th:only-of-type {\n",
       "        vertical-align: middle;\n",
       "    }\n",
       "\n",
       "    .dataframe tbody tr th {\n",
       "        vertical-align: top;\n",
       "    }\n",
       "\n",
       "    .dataframe thead th {\n",
       "        text-align: right;\n",
       "    }\n",
       "</style>\n",
       "<table border=\"1\" class=\"dataframe\">\n",
       "  <thead>\n",
       "    <tr style=\"text-align: right;\">\n",
       "      <th></th>\n",
       "      <th>sw</th>\n",
       "      <th>fr</th>\n",
       "    </tr>\n",
       "  </thead>\n",
       "  <tbody>\n",
       "    <tr>\n",
       "      <th>0</th>\n",
       "      <td>āɓēlə̀kó̰y lé tō nā̰y gɨ́ né-sɔ̀ tō yā̰ èĺ</td>\n",
       "      <td>Le mois de \"septembre\" est un mois où il n'y a...</td>\n",
       "    </tr>\n",
       "    <tr>\n",
       "      <th>1</th>\n",
       "      <td>á lò ō né gɨ́-ǹ</td>\n",
       "      <td>Regarde cette chose là</td>\n",
       "    </tr>\n",
       "    <tr>\n",
       "      <th>2</th>\n",
       "      <td>ɗí ɓá à ɗā-né wà?</td>\n",
       "      <td>Qu'a-t-il en faire?</td>\n",
       "    </tr>\n",
       "    <tr>\n",
       "      <th>3</th>\n",
       "      <td>à ɗèē bèlè</td>\n",
       "      <td>Il viendra demain</td>\n",
       "    </tr>\n",
       "    <tr>\n",
       "      <th>4</th>\n",
       "      <td>àw̄ ɗá à?</td>\n",
       "      <td>Où est-il parti?</td>\n",
       "    </tr>\n",
       "  </tbody>\n",
       "</table>\n",
       "</div>"
      ],
      "text/plain": [
       "                                           sw  \\\n",
       "0  āɓēlə̀kó̰y lé tō nā̰y gɨ́ né-sɔ̀ tō yā̰ èĺ   \n",
       "1                             á lò ō né gɨ́-ǹ   \n",
       "2                           ɗí ɓá à ɗā-né wà?   \n",
       "3                                  à ɗèē bèlè   \n",
       "4                                   àw̄ ɗá à?   \n",
       "\n",
       "                                                  fr  \n",
       "0  Le mois de \"septembre\" est un mois où il n'y a...  \n",
       "1                             Regarde cette chose là  \n",
       "2                                Qu'a-t-il en faire?  \n",
       "3                                  Il viendra demain  \n",
       "4                                   Où est-il parti?  "
      ]
     },
     "execution_count": 59,
     "metadata": {},
     "output_type": "execute_result"
    }
   ],
   "source": [
    "df_final.head()"
   ]
  },
  {
   "cell_type": "code",
   "execution_count": 60,
   "metadata": {},
   "outputs": [
    {
     "data": {
      "text/plain": [
       "34647"
      ]
     },
     "execution_count": 60,
     "metadata": {},
     "output_type": "execute_result"
    }
   ],
   "source": [
    "len(df_final)"
   ]
  },
  {
   "cell_type": "code",
   "execution_count": 61,
   "metadata": {},
   "outputs": [],
   "source": [
    "#we shuffle the dataframe\n",
    "from sklearn.utils import shuffle\n",
    "df_final = shuffle(df_final)"
   ]
  },
  {
   "cell_type": "code",
   "execution_count": 62,
   "metadata": {},
   "outputs": [],
   "source": [
    "train , val = train_test_split(df_final , test_size=0.2,random_state=42)\n",
    "train ,test =train_test_split(train , test_size=0.2, random_state=42)\n",
    "\n",
    "train=train.reset_index(drop=True)\n",
    "val=val.reset_index(drop=True)\n",
    "test=test.reset_index(drop=True)"
   ]
  },
  {
   "cell_type": "code",
   "execution_count": 36,
   "metadata": {},
   "outputs": [
    {
     "name": "stdout",
     "output_type": "stream",
     "text": [
      "Collecting jsonlines\n",
      "  Downloading jsonlines-3.1.0-py3-none-any.whl (8.6 kB)\n",
      "Requirement already satisfied: typing-extensions in /opt/conda/lib/python3.7/site-packages (from jsonlines) (3.10.0.2)\n",
      "Requirement already satisfied: attrs>=19.2.0 in /opt/conda/lib/python3.7/site-packages (from jsonlines) (21.2.0)\n",
      "Installing collected packages: jsonlines\n",
      "Successfully installed jsonlines-3.1.0\n",
      "\n",
      "\u001b[1m[\u001b[0m\u001b[34;49mnotice\u001b[0m\u001b[1;39;49m]\u001b[0m\u001b[39;49m A new release of pip available: \u001b[0m\u001b[31;49m22.3\u001b[0m\u001b[39;49m -> \u001b[0m\u001b[32;49m22.3.1\u001b[0m\n",
      "\u001b[1m[\u001b[0m\u001b[34;49mnotice\u001b[0m\u001b[1;39;49m]\u001b[0m\u001b[39;49m To update, run: \u001b[0m\u001b[32;49mpip install --upgrade pip\u001b[0m\n",
      "Note: you may need to restart the kernel to use updated packages.\n"
     ]
    }
   ],
   "source": [
    "pip install jsonlines"
   ]
  },
  {
   "cell_type": "code",
   "execution_count": 63,
   "metadata": {},
   "outputs": [],
   "source": [
    "import jsonlines"
   ]
  },
  {
   "cell_type": "code",
   "execution_count": 64,
   "metadata": {
    "id": "TGms-c82Ks8t"
   },
   "outputs": [],
   "source": [
    "with jsonlines.open('sba_fr_train_synthetic.json', mode='w') as writer:\n",
    "  for i in range(len(train)):\n",
    "    writer.write({\"translation\":{'fr':train[\"fr\"][i],'sw':train[\"sw\"][i] }})\n",
    "\n",
    "with jsonlines.open('sba_fr_val_synthetic.json', mode='w') as writer:\n",
    "  for i in range(len(val)):\n",
    "    writer.write({\"translation\":{'fr':val[\"fr\"][i],'sw':val[\"sw\"][i]}})\n",
    "\n",
    "with jsonlines.open('sba_fr_test_synthetic.json', mode='w') as writer:\n",
    "  for i in range(len(test)):\n",
    "    writer.write({\"translation\":{'fr':test[\"fr\"][i],'sw':test[\"sw\"][i]}})"
   ]
  },
  {
   "cell_type": "markdown",
   "metadata": {
    "id": "ONRkYt9EM97f"
   },
   "source": [
    "## Split test into sentences"
   ]
  },
  {
   "cell_type": "code",
   "execution_count": null,
   "metadata": {},
   "outputs": [],
   "source": [
    "import csv\n",
    "\n",
    "# Open the input .txt file and read the contents\n",
    "with open('french.txt', 'r') as input_file:\n",
    "    input_text = input_file.read()\n",
    "\n",
    "# Split the input text into sentences\n",
    "sentences = input_text.split('\\n')\n",
    "\n",
    "# Open the output .csv file and write the sentences to it\n",
    "with open('output.csv', 'w', newline='') as output_file:\n",
    "    writer = csv.writer(output_file)\n",
    "    writer.writerow(['sentences'])  # Write the header row\n",
    "    for sentence in sentences:\n",
    "        writer.writerow([sentence])  # Write each sentence as a row"
   ]
  }
 ],
 "metadata": {
  "colab": {
   "provenance": []
  },
  "environment": {
   "kernel": "python3",
   "name": "common-cu101.m84",
   "type": "gcloud",
   "uri": "gcr.io/deeplearning-platform-release/base-cu101:m84"
  },
  "kernelspec": {
   "display_name": "Python 3",
   "language": "python",
   "name": "python3"
  },
  "language_info": {
   "codemirror_mode": {
    "name": "ipython",
    "version": 3
   },
   "file_extension": ".py",
   "mimetype": "text/x-python",
   "name": "python",
   "nbconvert_exporter": "python",
   "pygments_lexer": "ipython3",
   "version": "3.7.12"
  }
 },
 "nbformat": 4,
 "nbformat_minor": 4
}
