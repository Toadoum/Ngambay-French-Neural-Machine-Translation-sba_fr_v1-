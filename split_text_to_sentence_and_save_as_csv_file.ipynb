{
  "nbformat": 4,
  "nbformat_minor": 0,
  "metadata": {
    "colab": {
      "provenance": [],
      "authorship_tag": "ABX9TyOZGNq+jYKIFtoSQhRvrVEX",
      "include_colab_link": true
    },
    "kernelspec": {
      "name": "python3",
      "display_name": "Python 3"
    },
    "language_info": {
      "name": "python"
    }
  },
  "cells": [
    {
      "cell_type": "markdown",
      "metadata": {
        "id": "view-in-github",
        "colab_type": "text"
      },
      "source": [
        "<a href=\"https://colab.research.google.com/github/Toadoum/Ngambay-French-Neural-Machine-Translation-sba_fr_v1-/blob/main/split_text_to_sentence_and_save_as_csv_file.ipynb\" target=\"_parent\"><img src=\"https://colab.research.google.com/assets/colab-badge.svg\" alt=\"Open In Colab\"/></a>"
      ]
    },
    {
      "cell_type": "code",
      "execution_count": null,
      "metadata": {
        "id": "KynT5OsylG5o"
      },
      "outputs": [],
      "source": [
        "import csv\n",
        "\n",
        "# Open the input .txt file and read the contents\n",
        "with open('french.txt', 'r') as input_file:\n",
        "    input_text = input_file.read()\n",
        "\n",
        "# Split the input text into sentences\n",
        "sentences = input_text.split('\\n')\n",
        "\n",
        "# Open the output .csv file and write the sentences to it\n",
        "with open('output.csv', 'w', newline='') as output_file:\n",
        "    writer = csv.writer(output_file)\n",
        "    writer.writerow(['sentences'])  # Write the header row\n",
        "    for sentence in sentences:\n",
        "        writer.writerow([sentence])  # Write each sentence as a row"
      ]
    },
    {
      "cell_type": "code",
      "source": [
        "import pandas as pd"
      ],
      "metadata": {
        "id": "dpAzEMuinL9Q"
      },
      "execution_count": null,
      "outputs": []
    },
    {
      "cell_type": "code",
      "source": [
        "data =pd.read_csv('output.csv')"
      ],
      "metadata": {
        "id": "fQ_pg75NnOO6"
      },
      "execution_count": null,
      "outputs": []
    },
    {
      "cell_type": "code",
      "source": [
        "data.head()"
      ],
      "metadata": {
        "colab": {
          "base_uri": "https://localhost:8080/",
          "height": 204
        },
        "id": "pYcyzpi-nUvP",
        "outputId": "266a73e6-07e4-4944-eced-6569b7c01a89"
      },
      "execution_count": null,
      "outputs": [
        {
          "output_type": "execute_result",
          "data": {
            "text/plain": [
              "                                           sentences\n",
              "0  Il a à son actif des propositions de systèmes ...\n",
              "1  En 2019, il a mis au point le Plan « OBAR » do...\n",
              "2  Dans cette interview réalisée aux lendemains d...\n",
              "3  Mieux, il affirme que s’il est mis en œuvre su...\n",
              "4  Vous avez mis au point le Plan « OBAR » qui do..."
            ],
            "text/html": [
              "\n",
              "  <div id=\"df-7c4c4ab9-7726-4fb6-bfa5-9d6c1f4ef71d\">\n",
              "    <div class=\"colab-df-container\">\n",
              "      <div>\n",
              "<style scoped>\n",
              "    .dataframe tbody tr th:only-of-type {\n",
              "        vertical-align: middle;\n",
              "    }\n",
              "\n",
              "    .dataframe tbody tr th {\n",
              "        vertical-align: top;\n",
              "    }\n",
              "\n",
              "    .dataframe thead th {\n",
              "        text-align: right;\n",
              "    }\n",
              "</style>\n",
              "<table border=\"1\" class=\"dataframe\">\n",
              "  <thead>\n",
              "    <tr style=\"text-align: right;\">\n",
              "      <th></th>\n",
              "      <th>sentences</th>\n",
              "    </tr>\n",
              "  </thead>\n",
              "  <tbody>\n",
              "    <tr>\n",
              "      <th>0</th>\n",
              "      <td>Il a à son actif des propositions de systèmes ...</td>\n",
              "    </tr>\n",
              "    <tr>\n",
              "      <th>1</th>\n",
              "      <td>En 2019, il a mis au point le Plan « OBAR » do...</td>\n",
              "    </tr>\n",
              "    <tr>\n",
              "      <th>2</th>\n",
              "      <td>Dans cette interview réalisée aux lendemains d...</td>\n",
              "    </tr>\n",
              "    <tr>\n",
              "      <th>3</th>\n",
              "      <td>Mieux, il affirme que s’il est mis en œuvre su...</td>\n",
              "    </tr>\n",
              "    <tr>\n",
              "      <th>4</th>\n",
              "      <td>Vous avez mis au point le Plan « OBAR » qui do...</td>\n",
              "    </tr>\n",
              "  </tbody>\n",
              "</table>\n",
              "</div>\n",
              "      <button class=\"colab-df-convert\" onclick=\"convertToInteractive('df-7c4c4ab9-7726-4fb6-bfa5-9d6c1f4ef71d')\"\n",
              "              title=\"Convert this dataframe to an interactive table.\"\n",
              "              style=\"display:none;\">\n",
              "        \n",
              "  <svg xmlns=\"http://www.w3.org/2000/svg\" height=\"24px\"viewBox=\"0 0 24 24\"\n",
              "       width=\"24px\">\n",
              "    <path d=\"M0 0h24v24H0V0z\" fill=\"none\"/>\n",
              "    <path d=\"M18.56 5.44l.94 2.06.94-2.06 2.06-.94-2.06-.94-.94-2.06-.94 2.06-2.06.94zm-11 1L8.5 8.5l.94-2.06 2.06-.94-2.06-.94L8.5 2.5l-.94 2.06-2.06.94zm10 10l.94 2.06.94-2.06 2.06-.94-2.06-.94-.94-2.06-.94 2.06-2.06.94z\"/><path d=\"M17.41 7.96l-1.37-1.37c-.4-.4-.92-.59-1.43-.59-.52 0-1.04.2-1.43.59L10.3 9.45l-7.72 7.72c-.78.78-.78 2.05 0 2.83L4 21.41c.39.39.9.59 1.41.59.51 0 1.02-.2 1.41-.59l7.78-7.78 2.81-2.81c.8-.78.8-2.07 0-2.86zM5.41 20L4 18.59l7.72-7.72 1.47 1.35L5.41 20z\"/>\n",
              "  </svg>\n",
              "      </button>\n",
              "      \n",
              "  <style>\n",
              "    .colab-df-container {\n",
              "      display:flex;\n",
              "      flex-wrap:wrap;\n",
              "      gap: 12px;\n",
              "    }\n",
              "\n",
              "    .colab-df-convert {\n",
              "      background-color: #E8F0FE;\n",
              "      border: none;\n",
              "      border-radius: 50%;\n",
              "      cursor: pointer;\n",
              "      display: none;\n",
              "      fill: #1967D2;\n",
              "      height: 32px;\n",
              "      padding: 0 0 0 0;\n",
              "      width: 32px;\n",
              "    }\n",
              "\n",
              "    .colab-df-convert:hover {\n",
              "      background-color: #E2EBFA;\n",
              "      box-shadow: 0px 1px 2px rgba(60, 64, 67, 0.3), 0px 1px 3px 1px rgba(60, 64, 67, 0.15);\n",
              "      fill: #174EA6;\n",
              "    }\n",
              "\n",
              "    [theme=dark] .colab-df-convert {\n",
              "      background-color: #3B4455;\n",
              "      fill: #D2E3FC;\n",
              "    }\n",
              "\n",
              "    [theme=dark] .colab-df-convert:hover {\n",
              "      background-color: #434B5C;\n",
              "      box-shadow: 0px 1px 3px 1px rgba(0, 0, 0, 0.15);\n",
              "      filter: drop-shadow(0px 1px 2px rgba(0, 0, 0, 0.3));\n",
              "      fill: #FFFFFF;\n",
              "    }\n",
              "  </style>\n",
              "\n",
              "      <script>\n",
              "        const buttonEl =\n",
              "          document.querySelector('#df-7c4c4ab9-7726-4fb6-bfa5-9d6c1f4ef71d button.colab-df-convert');\n",
              "        buttonEl.style.display =\n",
              "          google.colab.kernel.accessAllowed ? 'block' : 'none';\n",
              "\n",
              "        async function convertToInteractive(key) {\n",
              "          const element = document.querySelector('#df-7c4c4ab9-7726-4fb6-bfa5-9d6c1f4ef71d');\n",
              "          const dataTable =\n",
              "            await google.colab.kernel.invokeFunction('convertToInteractive',\n",
              "                                                     [key], {});\n",
              "          if (!dataTable) return;\n",
              "\n",
              "          const docLinkHtml = 'Like what you see? Visit the ' +\n",
              "            '<a target=\"_blank\" href=https://colab.research.google.com/notebooks/data_table.ipynb>data table notebook</a>'\n",
              "            + ' to learn more about interactive tables.';\n",
              "          element.innerHTML = '';\n",
              "          dataTable['output_type'] = 'display_data';\n",
              "          await google.colab.output.renderOutput(dataTable, element);\n",
              "          const docLink = document.createElement('div');\n",
              "          docLink.innerHTML = docLinkHtml;\n",
              "          element.appendChild(docLink);\n",
              "        }\n",
              "      </script>\n",
              "    </div>\n",
              "  </div>\n",
              "  "
            ]
          },
          "metadata": {},
          "execution_count": 4
        }
      ]
    },
    {
      "cell_type": "code",
      "source": [
        "for i in range (len(data['sentences'])):\n",
        "  text_to=data['sentences'][i]\n",
        "  print(text_to)\n",
        "\n"
      ],
      "metadata": {
        "id": "a9igDndrnYO8"
      },
      "execution_count": null,
      "outputs": []
    },
    {
      "cell_type": "code",
      "source": [
        "text_to"
      ],
      "metadata": {
        "colab": {
          "base_uri": "https://localhost:8080/",
          "height": 54
        },
        "id": "sLVVlD72nbxi",
        "outputId": "3f08e784-7324-412a-c7fc-8ab2063269df"
      },
      "execution_count": null,
      "outputs": [
        {
          "output_type": "execute_result",
          "data": {
            "text/plain": [
              "'Au pas de course, le Premier ministre Luc Adolphe Tiao a visité ce 17 mai 2013 à Ouagadougou, des chantiers lancés il y a quelques mois.'"
            ],
            "application/vnd.google.colaboratory.intrinsic+json": {
              "type": "string"
            }
          },
          "metadata": {},
          "execution_count": 11
        }
      ]
    },
    {
      "cell_type": "code",
      "source": [
        "import csv\n",
        "\n",
        "# Function to write lists to a CSV file\n",
        "def write_lists_to_csv(lists, file_name):\n",
        "  with open(file_name, 'w', newline='') as csv_file:\n",
        "    writer = csv.writer(csv_file)\n",
        "    \n",
        "    # Write the column names\n",
        "    writer.writerow(['sba'])\n",
        "    \n",
        "    # Write the rows\n",
        "    for l in lists:\n",
        "      for item in l:\n",
        "        writer.writerow([item])\n",
        "\n",
        "# Example usage\n",
        "lists = [[1, 2, 3], [4, 5, 6], [7, 8, 9]]\n",
        "write_lists_to_csv(lists, 'sba.csv')"
      ],
      "metadata": {
        "id": "VqIzX4M6nc9U"
      },
      "execution_count": null,
      "outputs": []
    },
    {
      "cell_type": "code",
      "source": [
        "import csv\n",
        "\n",
        "# List of lists to be written to the CSV file\n",
        "data = [['list1'], ['bonjourbsvv ijsihg'], ['list3']]\n",
        "\n",
        "# Open the CSV file for writing\n",
        "with open('sba.csv', 'w', newline='') as csvfile:\n",
        "    # Create a CSV writer object\n",
        "    writer = csv.writer(csvfile)\n",
        "\n",
        "    # Write each list to a separate row in the CSV file\n",
        "    for row in data:\n",
        "        writer.writerow(['sba'])"
      ],
      "metadata": {
        "id": "DkNhQrkkudw-"
      },
      "execution_count": null,
      "outputs": []
    },
    {
      "cell_type": "code",
      "source": [
        "import csv\n",
        "\n",
        "# List of lists to be written to the CSV file\n",
        "data = [['list1 mamam bjuusg'], ['list2'], ['list3']]\n",
        "\n",
        "# Open the CSV file for writing\n",
        "with open('sba.csv', 'w', newline='') as csvfile:\n",
        "    # Create a CSV writer object\n",
        "    writer = csv.writer(csvfile)\n",
        "\n",
        "    # Write the column header\n",
        "    writer.writerow(['sba'])\n",
        "\n",
        "    # Write each list to a separate row in the CSV file\n",
        "    for row in data:\n",
        "        writer.writerow(row)"
      ],
      "metadata": {
        "id": "XGZyvvQKD81X"
      },
      "execution_count": null,
      "outputs": []
    },
    {
      "cell_type": "code",
      "source": [
        "import csv\n",
        "\n",
        "# Set the names of the input files and the columns to extract from each file\n",
        "input_filenames = [\"output-3.csv\", \"sba.csv\"]\n",
        "columns_to_extract = [[\"sentences\"], [\"sba\"]]\n",
        "\n",
        "# Initialize lists to store the extracted data and the synthetic data\n",
        "extracted_data = []\n",
        "synthetic_data = []\n",
        "\n",
        "# Extract the specified columns from each input file and store the data in the extracted_data list\n",
        "for i, filename in enumerate(input_filenames):\n",
        "    with open(filename, \"r\") as file:\n",
        "        reader = csv.DictReader(file)\n",
        "        for row in reader:\n",
        "            extracted_data.append([row[column] for column in columns_to_extract[i]])\n",
        "\n",
        "# Combine the extracted data into a single synthetic data set\n",
        "for i in range(len(extracted_data[0])):\n",
        "    synthetic_row = []\n",
        "    for j in range(len(extracted_data)):\n",
        "        synthetic_row.extend(extracted_data[j][i])\n",
        "    synthetic_data.append(synthetic_row)\n",
        "\n",
        "# Write the synthetic data to a CSV file\n",
        "with open(\"synthetic.csv\", \"w\") as file:\n",
        "    writer = csv.writer(file)\n",
        "    writer.writerows(synthetic_data)"
      ],
      "metadata": {
        "id": "omQRUbK5FFrE"
      },
      "execution_count": null,
      "outputs": []
    },
    {
      "cell_type": "code",
      "source": [],
      "metadata": {
        "id": "PEGffeSdaeM9"
      },
      "execution_count": null,
      "outputs": []
    }
  ]
}